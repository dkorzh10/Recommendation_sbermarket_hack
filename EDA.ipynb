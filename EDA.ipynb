{
 "cells": [
  {
   "cell_type": "markdown",
   "metadata": {},
   "source": [
    "# SberMarket Hackathon EDA"
   ]
  },
  {
   "cell_type": "code",
   "execution_count": 1,
   "metadata": {},
   "outputs": [],
   "source": [
    "import os\n",
    "import random\n",
    "import matplotlib.pyplot as plt\n",
    "import numpy as np\n",
    "import pandas as pd\n",
    "import scipy as sc\n",
    "from tqdm import tqdm"
   ]
  },
  {
   "cell_type": "code",
   "execution_count": 2,
   "metadata": {},
   "outputs": [],
   "source": [
    "sub = pd.read_csv('sample_submission.csv')"
   ]
  },
  {
   "cell_type": "code",
   "execution_count": 3,
   "metadata": {},
   "outputs": [],
   "source": [
    "tab1 = pd.read_csv('kaggle_tab_1345/tab_1_orders.csv')\n",
    "tab3 = pd.read_csv('kaggle_tab_1345/tab_3_categories.csv')\n",
    "tab4 = pd.read_csv('kaggle_tab_1345/tab_4_user_profiles.csv')\n",
    "tab5 = pd.read_csv('kaggle_tab_1345/tab_5_product_properties.csv')"
   ]
  },
  {
   "cell_type": "markdown",
   "metadata": {},
   "source": [
    "### Table 1 (orders):\n",
    "\n",
    "```order_id | user_id | order_completed_date | store_id | retailer | platform```"
   ]
  },
  {
   "cell_type": "code",
   "execution_count": 4,
   "metadata": {},
   "outputs": [
    {
     "data": {
      "text/html": [
       "<div>\n",
       "<style scoped>\n",
       "    .dataframe tbody tr th:only-of-type {\n",
       "        vertical-align: middle;\n",
       "    }\n",
       "\n",
       "    .dataframe tbody tr th {\n",
       "        vertical-align: top;\n",
       "    }\n",
       "\n",
       "    .dataframe thead th {\n",
       "        text-align: right;\n",
       "    }\n",
       "</style>\n",
       "<table border=\"1\" class=\"dataframe\">\n",
       "  <thead>\n",
       "    <tr style=\"text-align: right;\">\n",
       "      <th></th>\n",
       "      <th>user_id</th>\n",
       "      <th>order_id</th>\n",
       "      <th>order_created_time</th>\n",
       "      <th>retailer</th>\n",
       "      <th>store_id</th>\n",
       "      <th>platform</th>\n",
       "    </tr>\n",
       "  </thead>\n",
       "  <tbody>\n",
       "    <tr>\n",
       "      <th>0</th>\n",
       "      <td>72</td>\n",
       "      <td>17431000</td>\n",
       "      <td>2020-09-26 10:48:57</td>\n",
       "      <td>METRO</td>\n",
       "      <td>21</td>\n",
       "      <td>app</td>\n",
       "    </tr>\n",
       "    <tr>\n",
       "      <th>1</th>\n",
       "      <td>83</td>\n",
       "      <td>9718154</td>\n",
       "      <td>2020-05-08 09:46:18</td>\n",
       "      <td>METRO</td>\n",
       "      <td>87</td>\n",
       "      <td>web</td>\n",
       "    </tr>\n",
       "    <tr>\n",
       "      <th>2</th>\n",
       "      <td>142</td>\n",
       "      <td>10056850</td>\n",
       "      <td>2020-05-14 15:06:03</td>\n",
       "      <td>METRO</td>\n",
       "      <td>320</td>\n",
       "      <td>app</td>\n",
       "    </tr>\n",
       "    <tr>\n",
       "      <th>3</th>\n",
       "      <td>187</td>\n",
       "      <td>15952443</td>\n",
       "      <td>2020-09-01 17:34:00</td>\n",
       "      <td>ВкусВилл</td>\n",
       "      <td>533</td>\n",
       "      <td>app</td>\n",
       "    </tr>\n",
       "    <tr>\n",
       "      <th>4</th>\n",
       "      <td>224</td>\n",
       "      <td>10409918</td>\n",
       "      <td>2020-05-20 06:32:50</td>\n",
       "      <td>Ашан</td>\n",
       "      <td>183</td>\n",
       "      <td>web</td>\n",
       "    </tr>\n",
       "  </tbody>\n",
       "</table>\n",
       "</div>"
      ],
      "text/plain": [
       "   user_id  order_id   order_created_time  retailer  store_id platform\n",
       "0       72  17431000  2020-09-26 10:48:57     METRO        21      app\n",
       "1       83   9718154  2020-05-08 09:46:18     METRO        87      web\n",
       "2      142  10056850  2020-05-14 15:06:03     METRO       320      app\n",
       "3      187  15952443  2020-09-01 17:34:00  ВкусВилл       533      app\n",
       "4      224  10409918  2020-05-20 06:32:50      Ашан       183      web"
      ]
     },
     "execution_count": 4,
     "metadata": {},
     "output_type": "execute_result"
    }
   ],
   "source": [
    "tab1.head()"
   ]
  },
  {
   "cell_type": "code",
   "execution_count": 5,
   "metadata": {},
   "outputs": [
    {
     "data": {
      "text/plain": [
       "(753572, 2426955, 61, 738)"
      ]
     },
     "execution_count": 5,
     "metadata": {},
     "output_type": "execute_result"
    }
   ],
   "source": [
    "tab1.user_id.nunique(), tab1.order_id.nunique(), tab1.retailer.nunique(), tab1.store_id.nunique()"
   ]
  },
  {
   "cell_type": "code",
   "execution_count": 6,
   "metadata": {},
   "outputs": [],
   "source": [
    "user_to_orders = tab1.groupby('user_id').order_id.apply(set)\n",
    "order_to_user = dict(zip(tab1.order_id, tab1.user_id))"
   ]
  },
  {
   "cell_type": "markdown",
   "metadata": {},
   "source": [
    "### Timestamps"
   ]
  },
  {
   "cell_type": "code",
   "execution_count": 7,
   "metadata": {},
   "outputs": [],
   "source": [
    "order_to_dt = pd.DataFrame(tab1.iloc[:, 1])\n",
    "timestamps = pd.to_datetime(tab1.order_created_time)"
   ]
  },
  {
   "cell_type": "code",
   "execution_count": 8,
   "metadata": {},
   "outputs": [],
   "source": [
    "order_to_dt['month'] = timestamps.dt.month\n",
    "order_to_dt['weekday'] = timestamps.dt.weekday\n",
    "order_to_dt['day'] = timestamps.dt.day"
   ]
  },
  {
   "cell_type": "code",
   "execution_count": 9,
   "metadata": {},
   "outputs": [
    {
     "data": {
      "text/html": [
       "<div>\n",
       "<style scoped>\n",
       "    .dataframe tbody tr th:only-of-type {\n",
       "        vertical-align: middle;\n",
       "    }\n",
       "\n",
       "    .dataframe tbody tr th {\n",
       "        vertical-align: top;\n",
       "    }\n",
       "\n",
       "    .dataframe thead th {\n",
       "        text-align: right;\n",
       "    }\n",
       "</style>\n",
       "<table border=\"1\" class=\"dataframe\">\n",
       "  <thead>\n",
       "    <tr style=\"text-align: right;\">\n",
       "      <th></th>\n",
       "      <th>order_id</th>\n",
       "      <th>month</th>\n",
       "      <th>weekday</th>\n",
       "      <th>day</th>\n",
       "    </tr>\n",
       "  </thead>\n",
       "  <tbody>\n",
       "    <tr>\n",
       "      <th>0</th>\n",
       "      <td>17431000</td>\n",
       "      <td>9</td>\n",
       "      <td>5</td>\n",
       "      <td>26</td>\n",
       "    </tr>\n",
       "    <tr>\n",
       "      <th>1</th>\n",
       "      <td>9718154</td>\n",
       "      <td>5</td>\n",
       "      <td>4</td>\n",
       "      <td>8</td>\n",
       "    </tr>\n",
       "    <tr>\n",
       "      <th>2</th>\n",
       "      <td>10056850</td>\n",
       "      <td>5</td>\n",
       "      <td>3</td>\n",
       "      <td>14</td>\n",
       "    </tr>\n",
       "    <tr>\n",
       "      <th>3</th>\n",
       "      <td>15952443</td>\n",
       "      <td>9</td>\n",
       "      <td>1</td>\n",
       "      <td>1</td>\n",
       "    </tr>\n",
       "    <tr>\n",
       "      <th>4</th>\n",
       "      <td>10409918</td>\n",
       "      <td>5</td>\n",
       "      <td>2</td>\n",
       "      <td>20</td>\n",
       "    </tr>\n",
       "  </tbody>\n",
       "</table>\n",
       "</div>"
      ],
      "text/plain": [
       "   order_id  month  weekday  day\n",
       "0  17431000      9        5   26\n",
       "1   9718154      5        4    8\n",
       "2  10056850      5        3   14\n",
       "3  15952443      9        1    1\n",
       "4  10409918      5        2   20"
      ]
     },
     "execution_count": 9,
     "metadata": {},
     "output_type": "execute_result"
    }
   ],
   "source": [
    "order_to_dt.head()"
   ]
  },
  {
   "cell_type": "code",
   "execution_count": 10,
   "metadata": {},
   "outputs": [],
   "source": [
    "order_to_dt_ = order_to_dt.set_index('order_id')"
   ]
  },
  {
   "cell_type": "code",
   "execution_count": 11,
   "metadata": {},
   "outputs": [],
   "source": [
    "order_to_period = {'month':dict(zip(order_to_dt.order_id.values, order_to_dt.loc[:,'month'].values)),\n",
    "                   'weekday':dict(zip(order_to_dt.order_id.values, order_to_dt.loc[:,'weekday'].values)),\n",
    "                   'day':dict(zip(order_to_dt.order_id.values, order_to_dt.loc[:,'day'].values))}"
   ]
  },
  {
   "cell_type": "markdown",
   "metadata": {},
   "source": [
    "### Retailers and stores"
   ]
  },
  {
   "cell_type": "code",
   "execution_count": 12,
   "metadata": {},
   "outputs": [],
   "source": [
    "order_to_retailer = dict(zip(tab1.order_id.values, tab1.retailer.values))"
   ]
  },
  {
   "cell_type": "code",
   "execution_count": 13,
   "metadata": {},
   "outputs": [
    {
     "data": {
      "text/plain": [
       "METRO                   1369726\n",
       "Лента                    653387\n",
       "Ашан                     401004\n",
       "МЕГАМАРТ                  11006\n",
       "ВкусВилл                   8821\n",
       "                         ...   \n",
       "АГРОКОМПЛЕКС                  4\n",
       "Сыроварня DolceLatte          3\n",
       "ТД \"Закарпатье\"               2\n",
       "МЯСНИЦКИЙ РЯД                 1\n",
       "Империал                      1\n",
       "Name: retailer, Length: 61, dtype: int64"
      ]
     },
     "execution_count": 13,
     "metadata": {},
     "output_type": "execute_result"
    }
   ],
   "source": [
    "tab1.retailer.value_counts()"
   ]
  },
  {
   "cell_type": "markdown",
   "metadata": {},
   "source": [
    "### Platform"
   ]
  },
  {
   "cell_type": "code",
   "execution_count": 14,
   "metadata": {},
   "outputs": [],
   "source": [
    "order_to_platform = dict(zip(tab1.order_id.values, tab1.platform.values))"
   ]
  },
  {
   "cell_type": "code",
   "execution_count": 15,
   "metadata": {},
   "outputs": [
    {
     "data": {
      "text/plain": [
       "app          1872404\n",
       "web           513018\n",
       "undefined      76536\n",
       "Name: platform, dtype: int64"
      ]
     },
     "execution_count": 15,
     "metadata": {},
     "output_type": "execute_result"
    }
   ],
   "source": [
    "tab1.platform.value_counts()"
   ]
  },
  {
   "cell_type": "markdown",
   "metadata": {},
   "source": [
    "### Table 3 (categories):\n",
    "\n",
    "```category_id | category_name | parent_category_id```\n",
    "\n",
    "category is a higher category level over master_category."
   ]
  },
  {
   "cell_type": "code",
   "execution_count": 16,
   "metadata": {},
   "outputs": [
    {
     "data": {
      "text/html": [
       "<div>\n",
       "<style scoped>\n",
       "    .dataframe tbody tr th:only-of-type {\n",
       "        vertical-align: middle;\n",
       "    }\n",
       "\n",
       "    .dataframe tbody tr th {\n",
       "        vertical-align: top;\n",
       "    }\n",
       "\n",
       "    .dataframe thead th {\n",
       "        text-align: right;\n",
       "    }\n",
       "</style>\n",
       "<table border=\"1\" class=\"dataframe\">\n",
       "  <thead>\n",
       "    <tr style=\"text-align: right;\">\n",
       "      <th></th>\n",
       "      <th>id</th>\n",
       "      <th>name</th>\n",
       "      <th>parent_id</th>\n",
       "    </tr>\n",
       "  </thead>\n",
       "  <tbody>\n",
       "    <tr>\n",
       "      <th>0</th>\n",
       "      <td>1</td>\n",
       "      <td>Продукты питания</td>\n",
       "      <td>0</td>\n",
       "    </tr>\n",
       "    <tr>\n",
       "      <th>1</th>\n",
       "      <td>2</td>\n",
       "      <td>Замороженные продукты</td>\n",
       "      <td>1</td>\n",
       "    </tr>\n",
       "    <tr>\n",
       "      <th>2</th>\n",
       "      <td>3</td>\n",
       "      <td>Замороженные овощи и фрукты</td>\n",
       "      <td>2</td>\n",
       "    </tr>\n",
       "    <tr>\n",
       "      <th>3</th>\n",
       "      <td>4</td>\n",
       "      <td>Замороженные полуфабрикаты</td>\n",
       "      <td>2</td>\n",
       "    </tr>\n",
       "    <tr>\n",
       "      <th>4</th>\n",
       "      <td>5</td>\n",
       "      <td>Рыба замороженная</td>\n",
       "      <td>2</td>\n",
       "    </tr>\n",
       "  </tbody>\n",
       "</table>\n",
       "</div>"
      ],
      "text/plain": [
       "   id                         name  parent_id\n",
       "0   1             Продукты питания          0\n",
       "1   2        Замороженные продукты          1\n",
       "2   3  Замороженные овощи и фрукты          2\n",
       "3   4   Замороженные полуфабрикаты          2\n",
       "4   5            Рыба замороженная          2"
      ]
     },
     "execution_count": 16,
     "metadata": {},
     "output_type": "execute_result"
    }
   ],
   "source": [
    "tab3.head()"
   ]
  },
  {
   "cell_type": "code",
   "execution_count": 17,
   "metadata": {},
   "outputs": [
    {
     "data": {
      "text/plain": [
       "(1016, 947, 140)"
      ]
     },
     "execution_count": 17,
     "metadata": {},
     "output_type": "execute_result"
    }
   ],
   "source": [
    "tab3.id.nunique(), tab3.name.nunique(), tab3.parent_id.nunique()"
   ]
  },
  {
   "cell_type": "markdown",
   "metadata": {},
   "source": [
    "I rewrite all parents categories with one name, hence created parent-parent category due to similar names. I created separate file and read it."
   ]
  },
  {
   "cell_type": "code",
   "execution_count": 18,
   "metadata": {},
   "outputs": [
    {
     "data": {
      "text/html": [
       "<div>\n",
       "<style scoped>\n",
       "    .dataframe tbody tr th:only-of-type {\n",
       "        vertical-align: middle;\n",
       "    }\n",
       "\n",
       "    .dataframe tbody tr th {\n",
       "        vertical-align: top;\n",
       "    }\n",
       "\n",
       "    .dataframe thead th {\n",
       "        text-align: right;\n",
       "    }\n",
       "</style>\n",
       "<table border=\"1\" class=\"dataframe\">\n",
       "  <thead>\n",
       "    <tr style=\"text-align: right;\">\n",
       "      <th></th>\n",
       "      <th>name</th>\n",
       "      <th>one_name</th>\n",
       "      <th>one_name_eng</th>\n",
       "    </tr>\n",
       "    <tr>\n",
       "      <th>parent_id</th>\n",
       "      <th></th>\n",
       "      <th></th>\n",
       "      <th></th>\n",
       "    </tr>\n",
       "  </thead>\n",
       "  <tbody>\n",
       "    <tr>\n",
       "      <th>0</th>\n",
       "      <td>Продукты питания -- Детские товары -- Косметик...</td>\n",
       "      <td>Для дома</td>\n",
       "      <td>For the house</td>\n",
       "    </tr>\n",
       "    <tr>\n",
       "      <th>1</th>\n",
       "      <td>Замороженные продукты -- Бакалея -- Чипсы, сух...</td>\n",
       "      <td>Бакалея</td>\n",
       "      <td>Grocery</td>\n",
       "    </tr>\n",
       "    <tr>\n",
       "      <th>2</th>\n",
       "      <td>Замороженные овощи и фрукты -- Замороженные по...</td>\n",
       "      <td>Замороженные</td>\n",
       "      <td>Frozen</td>\n",
       "    </tr>\n",
       "    <tr>\n",
       "      <th>9</th>\n",
       "      <td>Хлопья, мюсли, сухие завтраки -- Макароны -- К...</td>\n",
       "      <td>Бакалея</td>\n",
       "      <td>Grocery</td>\n",
       "    </tr>\n",
       "    <tr>\n",
       "      <th>19</th>\n",
       "      <td>Чипсы -- Сухарики и гренки -- Попкорн, кукуруз...</td>\n",
       "      <td>Снеки</td>\n",
       "      <td>Sneeks</td>\n",
       "    </tr>\n",
       "    <tr>\n",
       "      <th>...</th>\n",
       "      <td>...</td>\n",
       "      <td>...</td>\n",
       "      <td>...</td>\n",
       "    </tr>\n",
       "    <tr>\n",
       "      <th>569</th>\n",
       "      <td>Антибактериальные и противомикробные средства ...</td>\n",
       "      <td>Здоровье</td>\n",
       "      <td>Health</td>\n",
       "    </tr>\n",
       "    <tr>\n",
       "      <th>570</th>\n",
       "      <td>Витамины -- БАДы и пищевые добавки</td>\n",
       "      <td>Здоровье</td>\n",
       "      <td>Health</td>\n",
       "    </tr>\n",
       "    <tr>\n",
       "      <th>571</th>\n",
       "      <td>Перевязочные материалы -- Расходные материалы ...</td>\n",
       "      <td>Здоровье</td>\n",
       "      <td>Health</td>\n",
       "    </tr>\n",
       "    <tr>\n",
       "      <th>572</th>\n",
       "      <td>Линзы, уход за контактными линзами</td>\n",
       "      <td>Здоровье</td>\n",
       "      <td>Health</td>\n",
       "    </tr>\n",
       "    <tr>\n",
       "      <th>2100010001</th>\n",
       "      <td>Огнетушители</td>\n",
       "      <td>Инструменты</td>\n",
       "      <td>Tools</td>\n",
       "    </tr>\n",
       "  </tbody>\n",
       "</table>\n",
       "<p>140 rows × 3 columns</p>\n",
       "</div>"
      ],
      "text/plain": [
       "                                                         name      one_name  \\\n",
       "parent_id                                                                     \n",
       "0           Продукты питания -- Детские товары -- Косметик...      Для дома   \n",
       "1           Замороженные продукты -- Бакалея -- Чипсы, сух...       Бакалея   \n",
       "2           Замороженные овощи и фрукты -- Замороженные по...  Замороженные   \n",
       "9           Хлопья, мюсли, сухие завтраки -- Макароны -- К...       Бакалея   \n",
       "19          Чипсы -- Сухарики и гренки -- Попкорн, кукуруз...         Снеки   \n",
       "...                                                       ...           ...   \n",
       "569         Антибактериальные и противомикробные средства ...      Здоровье   \n",
       "570                        Витамины -- БАДы и пищевые добавки      Здоровье   \n",
       "571         Перевязочные материалы -- Расходные материалы ...      Здоровье   \n",
       "572                        Линзы, уход за контактными линзами      Здоровье   \n",
       "2100010001                                       Огнетушители   Инструменты   \n",
       "\n",
       "             one_name_eng  \n",
       "parent_id                  \n",
       "0           For the house  \n",
       "1                 Grocery  \n",
       "2                  Frozen  \n",
       "9                 Grocery  \n",
       "19                 Sneeks  \n",
       "...                   ...  \n",
       "569                Health  \n",
       "570                Health  \n",
       "571                Health  \n",
       "572                Health  \n",
       "2100010001          Tools  \n",
       "\n",
       "[140 rows x 3 columns]"
      ]
     },
     "execution_count": 18,
     "metadata": {},
     "output_type": "execute_result"
    }
   ],
   "source": [
    "cat_to_names = pd.read_csv('parent_category_names.csv', index_col=0)\n",
    "cat_to_names "
   ]
  },
  {
   "cell_type": "code",
   "execution_count": 19,
   "metadata": {},
   "outputs": [],
   "source": [
    "parent_id_to_name = dict(zip(cat_to_names.index.values, cat_to_names.one_name_eng))"
   ]
  },
  {
   "cell_type": "code",
   "execution_count": 459,
   "metadata": {},
   "outputs": [],
   "source": [
    "# cat_to_names.to_csv('parent_category_names.csv' )"
   ]
  },
  {
   "cell_type": "markdown",
   "metadata": {},
   "source": [
    "### Table 4 (user_profiles):\n",
    "\n",
    "```user_id | gender | bdate```"
   ]
  },
  {
   "cell_type": "code",
   "execution_count": 20,
   "metadata": {},
   "outputs": [
    {
     "data": {
      "text/html": [
       "<div>\n",
       "<style scoped>\n",
       "    .dataframe tbody tr th:only-of-type {\n",
       "        vertical-align: middle;\n",
       "    }\n",
       "\n",
       "    .dataframe tbody tr th {\n",
       "        vertical-align: top;\n",
       "    }\n",
       "\n",
       "    .dataframe thead th {\n",
       "        text-align: right;\n",
       "    }\n",
       "</style>\n",
       "<table border=\"1\" class=\"dataframe\">\n",
       "  <thead>\n",
       "    <tr style=\"text-align: right;\">\n",
       "      <th></th>\n",
       "      <th>user_id</th>\n",
       "      <th>gender</th>\n",
       "      <th>bdate</th>\n",
       "    </tr>\n",
       "  </thead>\n",
       "  <tbody>\n",
       "    <tr>\n",
       "      <th>0</th>\n",
       "      <td>2224890</td>\n",
       "      <td>NaN</td>\n",
       "      <td>NaN</td>\n",
       "    </tr>\n",
       "    <tr>\n",
       "      <th>1</th>\n",
       "      <td>1683001</td>\n",
       "      <td>male</td>\n",
       "      <td>1987-10-11</td>\n",
       "    </tr>\n",
       "    <tr>\n",
       "      <th>2</th>\n",
       "      <td>2102480</td>\n",
       "      <td>NaN</td>\n",
       "      <td>NaN</td>\n",
       "    </tr>\n",
       "    <tr>\n",
       "      <th>3</th>\n",
       "      <td>2224895</td>\n",
       "      <td>NaN</td>\n",
       "      <td>NaN</td>\n",
       "    </tr>\n",
       "    <tr>\n",
       "      <th>4</th>\n",
       "      <td>930197</td>\n",
       "      <td>NaN</td>\n",
       "      <td>NaN</td>\n",
       "    </tr>\n",
       "  </tbody>\n",
       "</table>\n",
       "</div>"
      ],
      "text/plain": [
       "   user_id gender       bdate\n",
       "0  2224890    NaN         NaN\n",
       "1  1683001   male  1987-10-11\n",
       "2  2102480    NaN         NaN\n",
       "3  2224895    NaN         NaN\n",
       "4   930197    NaN         NaN"
      ]
     },
     "execution_count": 20,
     "metadata": {},
     "output_type": "execute_result"
    }
   ],
   "source": [
    "tab4.head()"
   ]
  },
  {
   "cell_type": "code",
   "execution_count": 21,
   "metadata": {},
   "outputs": [
    {
     "data": {
      "text/plain": [
       "(438867,\n",
       " user_id    0.000000\n",
       " gender     0.528035\n",
       " bdate      0.528361\n",
       " dtype: float64)"
      ]
     },
     "execution_count": 21,
     "metadata": {},
     "output_type": "execute_result"
    }
   ],
   "source": [
    "tab4.shape[0], tab4.isna().sum(0) / tab4.shape[0]"
   ]
  },
  {
   "cell_type": "code",
   "execution_count": 22,
   "metadata": {},
   "outputs": [],
   "source": [
    "user_to_dem = tab4.dropna().copy()"
   ]
  },
  {
   "cell_type": "code",
   "execution_count": 23,
   "metadata": {},
   "outputs": [
    {
     "data": {
      "text/plain": [
       "(206730,\n",
       " female    0.631833\n",
       " male      0.368167\n",
       " Name: gender, dtype: float64)"
      ]
     },
     "execution_count": 23,
     "metadata": {},
     "output_type": "execute_result"
    }
   ],
   "source": [
    "user_to_dem.user_id.nunique(), user_to_dem.gender.value_counts() / user_to_dem.shape[0]"
   ]
  },
  {
   "cell_type": "code",
   "execution_count": 24,
   "metadata": {},
   "outputs": [],
   "source": [
    "user_to_dem.loc[:, 'bdate'] = pd.to_datetime(user_to_dem.bdate, errors='coerce', format=\"%Y-%m-%d\")\n",
    "user_to_dem.dropna(inplace=True)"
   ]
  },
  {
   "cell_type": "code",
   "execution_count": 25,
   "metadata": {},
   "outputs": [],
   "source": [
    "user_to_dem.loc[:, 'year'] = user_to_dem.bdate.dt.year"
   ]
  },
  {
   "cell_type": "code",
   "execution_count": 26,
   "metadata": {},
   "outputs": [
    {
     "data": {
      "image/png": "[encoded data removed]",
      "text/plain": [
       "<Figure size 432x288 with 1 Axes>"
      ]
     },
     "metadata": {
      "needs_background": "light"
     },
     "output_type": "display_data"
    }
   ],
   "source": [
    "plt.title('Age distribution')\n",
    "plt.hist(user_to_dem.year, bins=92)\n",
    "plt.vlines([2002, 1995, 1985, 1975, 1965], 0, 7500)\n",
    "plt.show()"
   ]
  },
  {
   "cell_type": "code",
   "execution_count": 27,
   "metadata": {},
   "outputs": [],
   "source": [
    "# our hypothesis agegroups\n",
    "agegroup_b = [1955, 1965, 1975, 1985, 1995, 2002]\n",
    "agegroup = pd.cut(user_to_dem.year.values, agegroup_b, labels=False)"
   ]
  },
  {
   "cell_type": "code",
   "execution_count": 28,
   "metadata": {},
   "outputs": [],
   "source": [
    "# quantilled agegroups\n",
    "agegroup_q, agegroup_qb = pd.qcut(user_to_dem.year.values, [0, .01, .25, .5, .75, 0.99, 1.], labels=False, retbins=True)"
   ]
  },
  {
   "cell_type": "code",
   "execution_count": 29,
   "metadata": {},
   "outputs": [
    {
     "data": {
      "text/plain": [
       "([1955, 1965, 1975, 1985, 1995, 2002],\n",
       " array([1922., 1959., 1980., 1988., 1995., 2003., 2015.]))"
      ]
     },
     "execution_count": 29,
     "metadata": {},
     "output_type": "execute_result"
    }
   ],
   "source": [
    "# yeah, we don't use small groups - <1955 and >2002\n",
    "agegroup_b, agegroup_qb"
   ]
  },
  {
   "cell_type": "code",
   "execution_count": 30,
   "metadata": {},
   "outputs": [
    {
     "data": {
      "text/plain": [
       "['1955-1965', '1965-1975', '1975-1985', '1985-1995', '1995-2002']"
      ]
     },
     "execution_count": 30,
     "metadata": {},
     "output_type": "execute_result"
    }
   ],
   "source": [
    "agebins = [f'{agegroup_b[i]}-{agegroup_b[i+1]}' for i in range(len(agegroup_b)-1)]\n",
    "agebins"
   ]
  },
  {
   "cell_type": "code",
   "execution_count": 31,
   "metadata": {},
   "outputs": [],
   "source": [
    "user_to_dem.loc[:, 'agegroup'] = agegroup\n",
    "user_to_dem = user_to_dem.dropna()\n",
    "user_to_dem.loc[:, 'agegroup'] = user_to_dem.agegroup.astype(int)"
   ]
  },
  {
   "cell_type": "code",
   "execution_count": 32,
   "metadata": {},
   "outputs": [],
   "source": [
    "youngold  = pd.cut(user_to_dem.year.values, [1955, 1985, 2002], labels=False)\n",
    "user_to_dem.loc[:, 'youngold'] = youngold"
   ]
  },
  {
   "cell_type": "code",
   "execution_count": 33,
   "metadata": {
    "scrolled": false
   },
   "outputs": [
    {
     "data": {
      "text/html": [
       "<div>\n",
       "<style scoped>\n",
       "    .dataframe tbody tr th:only-of-type {\n",
       "        vertical-align: middle;\n",
       "    }\n",
       "\n",
       "    .dataframe tbody tr th {\n",
       "        vertical-align: top;\n",
       "    }\n",
       "\n",
       "    .dataframe thead th {\n",
       "        text-align: right;\n",
       "    }\n",
       "</style>\n",
       "<table border=\"1\" class=\"dataframe\">\n",
       "  <thead>\n",
       "    <tr style=\"text-align: right;\">\n",
       "      <th></th>\n",
       "      <th>user_id</th>\n",
       "      <th>gender</th>\n",
       "      <th>bdate</th>\n",
       "      <th>year</th>\n",
       "      <th>agegroup</th>\n",
       "      <th>youngold</th>\n",
       "    </tr>\n",
       "  </thead>\n",
       "  <tbody>\n",
       "    <tr>\n",
       "      <th>1</th>\n",
       "      <td>1683001</td>\n",
       "      <td>male</td>\n",
       "      <td>1987-10-11</td>\n",
       "      <td>1987</td>\n",
       "      <td>3</td>\n",
       "      <td>1</td>\n",
       "    </tr>\n",
       "    <tr>\n",
       "      <th>10</th>\n",
       "      <td>1288925</td>\n",
       "      <td>male</td>\n",
       "      <td>1982-09-24</td>\n",
       "      <td>1982</td>\n",
       "      <td>2</td>\n",
       "      <td>0</td>\n",
       "    </tr>\n",
       "    <tr>\n",
       "      <th>22</th>\n",
       "      <td>631583</td>\n",
       "      <td>male</td>\n",
       "      <td>1989-03-16</td>\n",
       "      <td>1989</td>\n",
       "      <td>3</td>\n",
       "      <td>1</td>\n",
       "    </tr>\n",
       "    <tr>\n",
       "      <th>41</th>\n",
       "      <td>2106256</td>\n",
       "      <td>male</td>\n",
       "      <td>1978-12-04</td>\n",
       "      <td>1978</td>\n",
       "      <td>2</td>\n",
       "      <td>0</td>\n",
       "    </tr>\n",
       "    <tr>\n",
       "      <th>48</th>\n",
       "      <td>534410</td>\n",
       "      <td>female</td>\n",
       "      <td>1990-10-31</td>\n",
       "      <td>1990</td>\n",
       "      <td>3</td>\n",
       "      <td>1</td>\n",
       "    </tr>\n",
       "  </tbody>\n",
       "</table>\n",
       "</div>"
      ],
      "text/plain": [
       "    user_id  gender      bdate  year  agegroup  youngold\n",
       "1   1683001    male 1987-10-11  1987         3         1\n",
       "10  1288925    male 1982-09-24  1982         2         0\n",
       "22   631583    male 1989-03-16  1989         3         1\n",
       "41  2106256    male 1978-12-04  1978         2         0\n",
       "48   534410  female 1990-10-31  1990         3         1"
      ]
     },
     "execution_count": 33,
     "metadata": {},
     "output_type": "execute_result"
    }
   ],
   "source": [
    "# user_to_dem = user_to_dem.set_index('user_id')\n",
    "user_to_dem.head()"
   ]
  },
  {
   "cell_type": "code",
   "execution_count": 34,
   "metadata": {},
   "outputs": [],
   "source": [
    "user_to_agegroup = dict(zip(user_to_dem.user_id.values, user_to_dem.agegroup.values))\n",
    "user_to_gender = dict(zip(user_to_dem.user_id.values, user_to_dem.gender.values))\n",
    "user_to_yo = dict(zip(user_to_dem.user_id.values, user_to_dem.youngold.values))"
   ]
  },
  {
   "cell_type": "markdown",
   "metadata": {},
   "source": [
    "### Table 2 (products):\n",
    "\n",
    "```user_id | order_id | line_item_id | price | quantity | discount | product_name | product_id | brand_name | master_category```\n",
    "\n",
    "master_category is the lowest level category. Each product belongs to one master_category.\n",
    "\n",
    "line_item_id is the product's position in the order.\n",
    "\n",
    "price is the actual amount of money the user paid for the product. The discount is calculated as difference between the price which the user payed and the regular price of this product."
   ]
  },
  {
   "cell_type": "code",
   "execution_count": 35,
   "metadata": {},
   "outputs": [],
   "source": [
    "# cols = 'user_id order_id price quantity discount parent_category_id'.split()\n",
    "cols = 'user_id order_id price quantity discount brand_name parent_category_id'.split()\n",
    "dtypes = dict(zip(cols, [np.uint32, np.uint32, np.float32, np.uint16, np.float32, np.object, np.uint32]))"
   ]
  },
  {
   "cell_type": "code",
   "execution_count": 36,
   "metadata": {},
   "outputs": [],
   "source": [
    "# ALL : 60 mil rows\n",
    "tables = []\n",
    "for folder in filter(lambda x: x.startswith('sber'), os.listdir()):\n",
    "    for table in os.listdir(folder):\n",
    "        tables.append(pd.read_csv(folder+ '/' + table, \n",
    "                                 dtype=dtypes, usecols=cols))"
   ]
  },
  {
   "cell_type": "code",
   "execution_count": null,
   "metadata": {},
   "outputs": [],
   "source": [
    "# # BEFORE quarantine - january february march : 9 million rows\n",
    "# tables = []\n",
    "# for table in os.listdir('sbermarket_tab_2_1'):\n",
    "#     tables.append(pd.read_csv('sbermarket_tab_2_1/' + table))"
   ]
  },
  {
   "cell_type": "code",
   "execution_count": null,
   "metadata": {},
   "outputs": [],
   "source": [
    "# # JANUARY : 1.8 mil\n",
    "# tables = []\n",
    "# for table in filter(lambda x: x.startswith('tab_2_products_2020-01'), os.listdir('sbermarket_tab_2_1')):\n",
    "#     tables.append(pd.read_csv('sbermarket_tab_2_1/' + table))"
   ]
  },
  {
   "cell_type": "code",
   "execution_count": null,
   "metadata": {},
   "outputs": [],
   "source": [
    "# # FEBRUARY : 2.2 mil\n",
    "# tables = []\n",
    "# for table in filter(lambda x: x.startswith('tab_2_products_2020-02'), os.listdir('sbermarket_tab_2_1')):\n",
    "#     tables.append(pd.read_csv('sbermarket_tab_2_1/' + table))"
   ]
  },
  {
   "cell_type": "code",
   "execution_count": null,
   "metadata": {},
   "outputs": [],
   "source": [
    "# # MARCH : 5 mil\n",
    "# tables = []\n",
    "# for table in filter(lambda x: x.startswith('tab_2_products_2020-03'), os.listdir('sbermarket_tab_2_1')):\n",
    "#     tables.append(pd.read_csv('sbermarket_tab_2_1/' + table))"
   ]
  },
  {
   "cell_type": "code",
   "execution_count": null,
   "metadata": {},
   "outputs": [],
   "source": [
    "# # AFTER quarantine : 50 million rows\n",
    "# tables = []\n",
    "# for folder in filter(lambda x: x.startswith('sbermarket_tab_2') and not x.endswith('_1'), os.listdir()):\n",
    "#     for table in os.listdir(folder):\n",
    "#         tables.append(pd.read_csv(folder + '/'+ table))"
   ]
  },
  {
   "cell_type": "code",
   "execution_count": null,
   "metadata": {},
   "outputs": [],
   "source": [
    "# # AFTER quarantine 1/3 of data : ~16 million\n",
    "# tables = []\n",
    "# for folder in filter(lambda x: x.startswith('sbermarket_tab_2') and not x.endswith('_1'), os.listdir()):\n",
    "#     tables.append(pd.read_csv(folder + '/'+ random.choice(os.listdir(folder))))"
   ]
  },
  {
   "cell_type": "code",
   "execution_count": null,
   "metadata": {},
   "outputs": [],
   "source": [
    "# # APRIL - JUST after quarantine : 9 million\n",
    "# tables = []\n",
    "# for table in os.listdir('sbermarket_tab_2_2'):\n",
    "#     tables.append(pd.read_csv('sbermarket_tab_2_2/'+ table))"
   ]
  },
  {
   "cell_type": "code",
   "execution_count": null,
   "metadata": {},
   "outputs": [],
   "source": [
    "# # MAY\n",
    "# tables = []\n",
    "# for table in os.listdir('sbermarket_tab_2_3'):\n",
    "#     tables.append(pd.read_csv('sbermarket_tab_2_3/'+ table))"
   ]
  },
  {
   "cell_type": "code",
   "execution_count": null,
   "metadata": {},
   "outputs": [],
   "source": [
    "# # JUNE: 9mil\n",
    "# tables = []\n",
    "# for table in os.listdir('sbermarket_tab_2_4'):\n",
    "#     tables.append(pd.read_csv('sbermarket_tab_2_4/'+ table))"
   ]
  },
  {
   "cell_type": "code",
   "execution_count": null,
   "metadata": {},
   "outputs": [],
   "source": [
    "# # AUGUST - September : 12 million rows\n",
    "# tables = []\n",
    "# for table in os.listdir('sbermarket_tab_2_6'):\n",
    "#     tables.append(pd.read_csv('sbermarket_tab_2_6/'+ table))"
   ]
  },
  {
   "cell_type": "code",
   "execution_count": 37,
   "metadata": {},
   "outputs": [],
   "source": [
    "tab2 = pd.concat(tables)"
   ]
  },
  {
   "cell_type": "code",
   "execution_count": 38,
   "metadata": {},
   "outputs": [
    {
     "name": "stdout",
     "output_type": "stream",
     "text": [
      "59596980 mln rows total!\n"
     ]
    }
   ],
   "source": [
    "print(f'{tab2.shape[0]} mln rows total!')"
   ]
  },
  {
   "cell_type": "code",
   "execution_count": 39,
   "metadata": {},
   "outputs": [
    {
     "data": {
      "text/html": [
       "<div>\n",
       "<style scoped>\n",
       "    .dataframe tbody tr th:only-of-type {\n",
       "        vertical-align: middle;\n",
       "    }\n",
       "\n",
       "    .dataframe tbody tr th {\n",
       "        vertical-align: top;\n",
       "    }\n",
       "\n",
       "    .dataframe thead th {\n",
       "        text-align: right;\n",
       "    }\n",
       "</style>\n",
       "<table border=\"1\" class=\"dataframe\">\n",
       "  <thead>\n",
       "    <tr style=\"text-align: right;\">\n",
       "      <th></th>\n",
       "      <th>user_id</th>\n",
       "      <th>order_id</th>\n",
       "      <th>price</th>\n",
       "      <th>quantity</th>\n",
       "      <th>discount</th>\n",
       "      <th>brand_name</th>\n",
       "      <th>parent_category_id</th>\n",
       "    </tr>\n",
       "  </thead>\n",
       "  <tbody>\n",
       "    <tr>\n",
       "      <th>0</th>\n",
       "      <td>525</td>\n",
       "      <td>5354800</td>\n",
       "      <td>116.000000</td>\n",
       "      <td>4</td>\n",
       "      <td>0.00</td>\n",
       "      <td>Золотой Петушок</td>\n",
       "      <td>99</td>\n",
       "    </tr>\n",
       "    <tr>\n",
       "      <th>1</th>\n",
       "      <td>525</td>\n",
       "      <td>5354800</td>\n",
       "      <td>56.990002</td>\n",
       "      <td>2</td>\n",
       "      <td>13.08</td>\n",
       "      <td>Хлебный Дом</td>\n",
       "      <td>51</td>\n",
       "    </tr>\n",
       "    <tr>\n",
       "      <th>2</th>\n",
       "      <td>525</td>\n",
       "      <td>5354800</td>\n",
       "      <td>64.989998</td>\n",
       "      <td>2</td>\n",
       "      <td>40.02</td>\n",
       "      <td>Delicados</td>\n",
       "      <td>51</td>\n",
       "    </tr>\n",
       "    <tr>\n",
       "      <th>3</th>\n",
       "      <td>525</td>\n",
       "      <td>5354800</td>\n",
       "      <td>44.990002</td>\n",
       "      <td>6</td>\n",
       "      <td>0.00</td>\n",
       "      <td>BonAqua</td>\n",
       "      <td>74</td>\n",
       "    </tr>\n",
       "    <tr>\n",
       "      <th>4</th>\n",
       "      <td>525</td>\n",
       "      <td>5354800</td>\n",
       "      <td>65.900002</td>\n",
       "      <td>6</td>\n",
       "      <td>30.99</td>\n",
       "      <td>Mirinda</td>\n",
       "      <td>74</td>\n",
       "    </tr>\n",
       "  </tbody>\n",
       "</table>\n",
       "</div>"
      ],
      "text/plain": [
       "   user_id  order_id       price  quantity  discount       brand_name  \\\n",
       "0      525   5354800  116.000000         4      0.00  Золотой Петушок   \n",
       "1      525   5354800   56.990002         2     13.08      Хлебный Дом   \n",
       "2      525   5354800   64.989998         2     40.02        Delicados   \n",
       "3      525   5354800   44.990002         6      0.00          BonAqua   \n",
       "4      525   5354800   65.900002         6     30.99          Mirinda   \n",
       "\n",
       "   parent_category_id  \n",
       "0                  99  \n",
       "1                  51  \n",
       "2                  51  \n",
       "3                  74  \n",
       "4                  74  "
      ]
     },
     "execution_count": 39,
     "metadata": {},
     "output_type": "execute_result"
    }
   ],
   "source": [
    "tab2.head()"
   ]
  },
  {
   "cell_type": "code",
   "execution_count": 40,
   "metadata": {},
   "outputs": [],
   "source": [
    "tab2.loc[:, 'price_total'] = (tab2.price) * tab2.quantity #(tab2.price + discount) * tab2.quantity"
   ]
  },
  {
   "cell_type": "code",
   "execution_count": 44,
   "metadata": {},
   "outputs": [],
   "source": [
    "tab2.loc[:, 'category'] = tab2.parent_category_id.map(parent_id_to_name)"
   ]
  },
  {
   "cell_type": "code",
   "execution_count": 45,
   "metadata": {},
   "outputs": [],
   "source": [
    "tab2.loc[:, 'is_discount'] = tab2.discount.astype(bool)"
   ]
  },
  {
   "cell_type": "markdown",
   "metadata": {},
   "source": [
    "### Brands"
   ]
  },
  {
   "cell_type": "code",
   "execution_count": 46,
   "metadata": {},
   "outputs": [],
   "source": [
    "brand_income = tab2.groupby('brand_name').price_total.sum().sort_values()[::-1]"
   ]
  },
  {
   "cell_type": "code",
   "execution_count": 47,
   "metadata": {},
   "outputs": [
    {
     "data": {
      "image/png": "[encoded data removed]",
      "text/plain": [
       "<Figure size 576x576 with 1 Axes>"
      ]
     },
     "metadata": {},
     "output_type": "display_data"
    }
   ],
   "source": [
    "plt.figure(figsize=(8,8))\n",
    "plt.pie(brand_income[1:16], labels=brand_income[1:16].index)\n",
    "plt.savefig('brands.pdf')\n",
    "plt.show()"
   ]
  },
  {
   "cell_type": "markdown",
   "metadata": {},
   "source": [
    "## category quantity vs timestamp (weekday)"
   ]
  },
  {
   "cell_type": "code",
   "execution_count": 48,
   "metadata": {},
   "outputs": [],
   "source": [
    "small_tab2_cat = tab2.loc[:, ['order_id', 'quantity', 'category']]\n",
    "small_tab2_cat_period = small_tab2_cat[small_tab2_cat.order_id.isin(order_to_dt.order_id.values)].copy()"
   ]
  },
  {
   "cell_type": "code",
   "execution_count": 227,
   "metadata": {},
   "outputs": [],
   "source": [
    "def changing_cats(per, N, mi, top, save=None):   \n",
    "    ssmall_tab2_cat_period = small_tab2_cat_period.copy() # not a bug, feature... it starts in ~july\n",
    "    \n",
    "    ssmall_tab2_cat_period.loc[:, per] = small_tab2_cat_period.order_id.map(order_to_period[per])\n",
    "    category_by_period = ssmall_tab2_cat_period.iloc[:, 1:].groupby(['category', per]).quantity.sum()\n",
    "    category_by_period = category_by_period[category_by_period > mi].copy()\n",
    "    catbyw_index = list(category_by_period.index.values) #names\n",
    "    allcats = sorted(set([c for c, w in catbyw_index])) # all names\n",
    "\n",
    "    bad_cat = [] # not full period\n",
    "    for c in allcats:\n",
    "        for w in range(*N):\n",
    "            if (c, w) not in catbyw_index:\n",
    "                bad_cat.append(c)\n",
    "                break\n",
    "    \n",
    "\n",
    "    category_by_period = category_by_period.drop(bad_cat).copy()\n",
    "    cat_by_period = category_by_period.values.reshape(-1, N[1]-N[0])\n",
    "    allcats = sorted(set([c for c, w in category_by_period.index.values]))\n",
    "    # detrend ?\n",
    "\n",
    "    # by absolute difference\n",
    "    maxabs_through_period = np.argsort((abs(cat_by_period.max(1) - cat_by_period.min(1)) / cat_by_period.max(1)))[-top:]\n",
    "    maxabs_through_period = [allcats[i] for i in maxabs_through_period]\n",
    "    # we can try another function or try exact period's elements (e.g. friday vs tuesday, jan vs aug)\n",
    "    \n",
    "    a = 1\n",
    "    plt.figure(figsize=(15, 20))\n",
    "    plt.suptitle(f\"Top-{top} categories with trends through {per}s (min quantity = {mi})\")\n",
    "    for i in maxabs_through_period:\n",
    "        plt.subplot(top // 3 + 1, 3, a)\n",
    "        plt.title(i)\n",
    "        plt.plot(category_by_period[i].values)\n",
    "#         plt.xticks(range(7), 'Mon Tue Wed Thu Fri Sat Sun'.split())\n",
    "        plt.xticks(range(9), 'Jan Feb Mar Apr May Jun Jul Aug Sep'.split())\n",
    "        if (a % 3 == 1):\n",
    "            plt.ylabel('quantity sold')\n",
    "        a += 1\n",
    "    if save is not None:\n",
    "        plt.savefig(save)"
   ]
  },
  {
   "cell_type": "code",
   "execution_count": 50,
   "metadata": {},
   "outputs": [
    {
     "data": {
      "image/png": "[encoded data removed]",
      "text/plain": [
       "<Figure size 1080x1440 with 12 Axes>"
      ]
     },
     "metadata": {
      "needs_background": "light"
     },
     "output_type": "display_data"
    }
   ],
   "source": [
    "changing_cats('weekday', (0, 7), 100, 12, save='cat_by_WEEK_top9_all.png')"
   ]
  },
  {
   "cell_type": "code",
   "execution_count": 228,
   "metadata": {},
   "outputs": [
    {
     "data": {
      "image/png": "[encoded data removed]",
      "text/plain": [
       "<Figure size 1080x1440 with 9 Axes>"
      ]
     },
     "metadata": {
      "needs_background": "light"
     },
     "output_type": "display_data"
    }
   ],
   "source": [
    "changing_cats('month', (1,10), 100, 9, save='cat_by_MONTH_top9_all.png')"
   ]
  },
  {
   "cell_type": "code",
   "execution_count": null,
   "metadata": {},
   "outputs": [],
   "source": []
  },
  {
   "cell_type": "markdown",
   "metadata": {},
   "source": [
    "## Changes through months by age groups"
   ]
  },
  {
   "cell_type": "code",
   "execution_count": 52,
   "metadata": {},
   "outputs": [],
   "source": [
    "small_tab2_price = tab2.loc[:, ['user_id', 'order_id', 'price_total']].copy()\n",
    "small_tab2_price = small_tab2_price[small_tab2_price.order_id.isin(order_to_dt_.index)].copy()"
   ]
  },
  {
   "cell_type": "code",
   "execution_count": 53,
   "metadata": {},
   "outputs": [],
   "source": [
    "small_tab2_price.loc[:, 'month'] =  small_tab2_price.order_id.map(order_to_period['month'])\n",
    "small_tab2_price.loc[:, 'age'] =  small_tab2_price.user_id.map(user_to_agegroup)"
   ]
  },
  {
   "cell_type": "code",
   "execution_count": 54,
   "metadata": {},
   "outputs": [],
   "source": [
    "price_going_by_age = small_tab2_price.groupby(['age','month']).price_total.sum().values.reshape(-1, 9)"
   ]
  },
  {
   "cell_type": "code",
   "execution_count": 55,
   "metadata": {},
   "outputs": [
    {
     "data": {
      "image/png": "[encoded data removed]",
      "text/plain": [
       "<Figure size 432x288 with 1 Axes>"
      ]
     },
     "metadata": {
      "needs_background": "light"
     },
     "output_type": "display_data"
    }
   ],
   "source": [
    "plt.plot(price_going_by_age.T)\n",
    "plt.legend(agebins)\n",
    "plt.title('Total income per month by agegroup')\n",
    "plt.xticks(range(9), 'Jan Feb Mar Apr May Jun Jul Aug Sep'.split())\n",
    "plt.ylabel('amount of money spent (1 mlm RUB)')\n",
    "plt.yticks(np.arange(0, 2.1, 0.5)*1e7, np.arange(0, 21, 5))\n",
    "plt.savefig('price_change.png')\n",
    "plt.show()"
   ]
  },
  {
   "cell_type": "markdown",
   "metadata": {},
   "source": [
    "## Gender dependant categories"
   ]
  },
  {
   "cell_type": "code",
   "execution_count": 56,
   "metadata": {},
   "outputs": [],
   "source": [
    "small_tab2_user = tab2[tab2.user_id.isin(user_to_dem.user_id)].copy()\n",
    "small_tab2_user = small_tab2_user.drop(labels=['order_id'], axis=1)"
   ]
  },
  {
   "cell_type": "code",
   "execution_count": 57,
   "metadata": {},
   "outputs": [],
   "source": [
    "small_tab2_user.loc[:, 'gender'] = small_tab2_user.user_id.map(user_to_gender)"
   ]
  },
  {
   "cell_type": "code",
   "execution_count": 58,
   "metadata": {},
   "outputs": [],
   "source": [
    "pricecat_gender = pd.DataFrame(small_tab2_user.groupby(['gender', 'category']).quantity.sum())"
   ]
  },
  {
   "cell_type": "code",
   "execution_count": 59,
   "metadata": {},
   "outputs": [],
   "source": [
    "pricecat_gender.loc['female'].loc[:, 'quantity'] = \\\n",
    "pricecat_gender.loc['female'].loc[:, 'quantity'] / user_to_dem.gender.value_counts()['female']"
   ]
  },
  {
   "cell_type": "code",
   "execution_count": 60,
   "metadata": {},
   "outputs": [],
   "source": [
    "pricecat_gender.loc['male'].loc[:, 'quantity'] = \\\n",
    "pricecat_gender.loc['male'].loc[:, 'quantity'] / user_to_dem.gender.value_counts()['male']"
   ]
  },
  {
   "cell_type": "code",
   "execution_count": 61,
   "metadata": {},
   "outputs": [
    {
     "data": {
      "text/html": [
       "<div>\n",
       "<style scoped>\n",
       "    .dataframe tbody tr th:only-of-type {\n",
       "        vertical-align: middle;\n",
       "    }\n",
       "\n",
       "    .dataframe tbody tr th {\n",
       "        vertical-align: top;\n",
       "    }\n",
       "\n",
       "    .dataframe thead th {\n",
       "        text-align: right;\n",
       "    }\n",
       "</style>\n",
       "<table border=\"1\" class=\"dataframe\">\n",
       "  <thead>\n",
       "    <tr style=\"text-align: right;\">\n",
       "      <th></th>\n",
       "      <th></th>\n",
       "      <th>quantity</th>\n",
       "    </tr>\n",
       "    <tr>\n",
       "      <th>gender</th>\n",
       "      <th>category</th>\n",
       "      <th></th>\n",
       "    </tr>\n",
       "  </thead>\n",
       "  <tbody>\n",
       "    <tr>\n",
       "      <th rowspan=\"5\" valign=\"top\">female</th>\n",
       "      <th>Air freshener</th>\n",
       "      <td>0.020642</td>\n",
       "    </tr>\n",
       "    <tr>\n",
       "      <th>Alcohol</th>\n",
       "      <td>0.000008</td>\n",
       "    </tr>\n",
       "    <tr>\n",
       "      <th>Animals</th>\n",
       "      <td>0.004499</td>\n",
       "    </tr>\n",
       "    <tr>\n",
       "      <th>Appliances</th>\n",
       "      <td>0.000332</td>\n",
       "    </tr>\n",
       "    <tr>\n",
       "      <th>Auto</th>\n",
       "      <td>0.002415</td>\n",
       "    </tr>\n",
       "    <tr>\n",
       "      <th>...</th>\n",
       "      <th>...</th>\n",
       "      <td>...</td>\n",
       "    </tr>\n",
       "    <tr>\n",
       "      <th rowspan=\"5\" valign=\"top\">male</th>\n",
       "      <th>Tools</th>\n",
       "      <td>0.083332</td>\n",
       "    </tr>\n",
       "    <tr>\n",
       "      <th>Tourism</th>\n",
       "      <td>0.000073</td>\n",
       "    </tr>\n",
       "    <tr>\n",
       "      <th>Toys</th>\n",
       "      <td>0.003468</td>\n",
       "    </tr>\n",
       "    <tr>\n",
       "      <th>Vegetables</th>\n",
       "      <td>0.995121</td>\n",
       "    </tr>\n",
       "    <tr>\n",
       "      <th>intimate hygiene</th>\n",
       "      <td>0.037727</td>\n",
       "    </tr>\n",
       "  </tbody>\n",
       "</table>\n",
       "<p>155 rows × 1 columns</p>\n",
       "</div>"
      ],
      "text/plain": [
       "                         quantity\n",
       "gender category                  \n",
       "female Air freshener     0.020642\n",
       "       Alcohol           0.000008\n",
       "       Animals           0.004499\n",
       "       Appliances        0.000332\n",
       "       Auto              0.002415\n",
       "...                           ...\n",
       "male   Tools             0.083332\n",
       "       Tourism           0.000073\n",
       "       Toys              0.003468\n",
       "       Vegetables        0.995121\n",
       "       intimate hygiene  0.037727\n",
       "\n",
       "[155 rows x 1 columns]"
      ]
     },
     "execution_count": 61,
     "metadata": {},
     "output_type": "execute_result"
    }
   ],
   "source": [
    "pricecat_gender"
   ]
  },
  {
   "cell_type": "code",
   "execution_count": 62,
   "metadata": {},
   "outputs": [],
   "source": [
    "common_cats = pricecat_gender.loc['male'].index & pricecat_gender.loc['female'].index\n",
    "cats_female = pricecat_gender.loc['female'].loc[common_cats]\n",
    "cats_male = pricecat_gender.loc['male'].loc[common_cats]"
   ]
  },
  {
   "cell_type": "code",
   "execution_count": 63,
   "metadata": {},
   "outputs": [],
   "source": [
    "percentage_diff = (cats_female / cats_male).sort_values('quantity') \n",
    "maxdiff_female = (percentage_diff > 2) \n",
    "maxdiff_male = (percentage_diff < 0.5)\n",
    "maxdiff_index_f = maxdiff_female.loc[maxdiff_female.values.ravel()].index\n",
    "maxdiff_index_m = maxdiff_male.loc[maxdiff_male.values.ravel()].index"
   ]
  },
  {
   "cell_type": "code",
   "execution_count": 64,
   "metadata": {},
   "outputs": [],
   "source": [
    "maxdiff_index_sorted_f = cats_female.loc[maxdiff_index_f].sort_values('quantity').index\n",
    "maxdiff_index_sorted_m = cats_male.loc[maxdiff_index_m].sort_values('quantity').index"
   ]
  },
  {
   "cell_type": "code",
   "execution_count": 65,
   "metadata": {},
   "outputs": [],
   "source": [
    "cats_female_f = cats_female.loc[maxdiff_index_sorted_f]\n",
    "cats_male_f = cats_male.loc[maxdiff_index_sorted_f]\n",
    "\n",
    "cats_female_m = cats_female.loc[maxdiff_index_sorted_m]\n",
    "cats_male_m = cats_male.loc[maxdiff_index_sorted_m]"
   ]
  },
  {
   "cell_type": "code",
   "execution_count": 66,
   "metadata": {},
   "outputs": [
    {
     "data": {
      "image/png": "[encoded data removed]",
      "text/plain": [
       "<Figure size 1080x360 with 2 Axes>"
      ]
     },
     "metadata": {
      "needs_background": "light"
     },
     "output_type": "display_data"
    }
   ],
   "source": [
    "plt.figure(figsize=(15, 5))\n",
    "plt.suptitle('Gender dependance on category')\n",
    "plt.subplot(1,2,1)\n",
    "plt.bar(np.array(range(len(cats_male_f)))-0.05, \n",
    "        cats_male_f.values.ravel(), alpha=0.5, color='b', label='male')\n",
    "barsf=plt.bar(np.array(range(len(cats_female_f)))+0.05, \n",
    "        cats_female_f.values.ravel(), alpha=0.5, color='r', label='female')\n",
    "for rect, t in zip(barsf, percentage_diff.loc[maxdiff_index_sorted_f].values.ravel()):\n",
    "    height = rect.get_height()\n",
    "    plt.text(rect.get_x() + rect.get_width()/2.0, \n",
    "             height, 'x'+str(t.round(1)), ha='center', va='bottom')\n",
    "plt.xticks(range(len(maxdiff_index_f)), maxdiff_index_f.values, rotation=90)\n",
    "plt.legend()\n",
    "plt.title('Female consume more than male')\n",
    "plt.ylabel('average quantity per user')\n",
    "\n",
    "plt.subplot(1,2,2)\n",
    "barsm = plt.bar(np.array(range(len(cats_male_m)))-0.05, \n",
    "        cats_male_m.values.ravel(), alpha=0.5, color='b', label='male')\n",
    "plt.bar(np.array(range(len(cats_female_m)))+0.05, \n",
    "        cats_female_m.values.ravel(), alpha=0.5, color='r', label='female')\n",
    "plt.xticks(range(len(maxdiff_index_m)), maxdiff_index_m.values, rotation=90)\n",
    "for rect, t in zip(barsm, 1/percentage_diff.loc[maxdiff_index_sorted_m].values.ravel()):\n",
    "    height = rect.get_height()\n",
    "    plt.text(rect.get_x() + rect.get_width()/2.0, \n",
    "             height, 'x'+str(t.round(1)), ha='center', va='bottom')\n",
    "\n",
    "    \n",
    "plt.legend()\n",
    "plt.title('Male consume more than female')\n",
    "plt.ylabel('average quantity per user')\n",
    "\n",
    "plt.savefig('gender_dif.png')\n",
    "plt.show()"
   ]
  },
  {
   "cell_type": "markdown",
   "metadata": {},
   "source": [
    "## Age dependant categories"
   ]
  },
  {
   "cell_type": "code",
   "execution_count": 67,
   "metadata": {},
   "outputs": [
    {
     "data": {
      "text/html": [
       "<div>\n",
       "<style scoped>\n",
       "    .dataframe tbody tr th:only-of-type {\n",
       "        vertical-align: middle;\n",
       "    }\n",
       "\n",
       "    .dataframe tbody tr th {\n",
       "        vertical-align: top;\n",
       "    }\n",
       "\n",
       "    .dataframe thead th {\n",
       "        text-align: right;\n",
       "    }\n",
       "</style>\n",
       "<table border=\"1\" class=\"dataframe\">\n",
       "  <thead>\n",
       "    <tr style=\"text-align: right;\">\n",
       "      <th></th>\n",
       "      <th></th>\n",
       "      <th>quantity</th>\n",
       "    </tr>\n",
       "    <tr>\n",
       "      <th>youngold</th>\n",
       "      <th>category</th>\n",
       "      <th></th>\n",
       "    </tr>\n",
       "  </thead>\n",
       "  <tbody>\n",
       "    <tr>\n",
       "      <th rowspan=\"5\" valign=\"top\">0</th>\n",
       "      <th>Air freshener</th>\n",
       "      <td>0.017521</td>\n",
       "    </tr>\n",
       "    <tr>\n",
       "      <th>Alcohol</th>\n",
       "      <td>0.000014</td>\n",
       "    </tr>\n",
       "    <tr>\n",
       "      <th>Animals</th>\n",
       "      <td>0.003702</td>\n",
       "    </tr>\n",
       "    <tr>\n",
       "      <th>Appliances</th>\n",
       "      <td>0.000244</td>\n",
       "    </tr>\n",
       "    <tr>\n",
       "      <th>Auto</th>\n",
       "      <td>0.003228</td>\n",
       "    </tr>\n",
       "    <tr>\n",
       "      <th>...</th>\n",
       "      <th>...</th>\n",
       "      <td>...</td>\n",
       "    </tr>\n",
       "    <tr>\n",
       "      <th rowspan=\"5\" valign=\"top\">1</th>\n",
       "      <th>Tourism</th>\n",
       "      <td>0.000061</td>\n",
       "    </tr>\n",
       "    <tr>\n",
       "      <th>Toys</th>\n",
       "      <td>0.004678</td>\n",
       "    </tr>\n",
       "    <tr>\n",
       "      <th>Vegetables</th>\n",
       "      <td>1.050573</td>\n",
       "    </tr>\n",
       "    <tr>\n",
       "      <th>Winterization</th>\n",
       "      <td>0.000009</td>\n",
       "    </tr>\n",
       "    <tr>\n",
       "      <th>intimate hygiene</th>\n",
       "      <td>0.050626</td>\n",
       "    </tr>\n",
       "  </tbody>\n",
       "</table>\n",
       "<p>155 rows × 1 columns</p>\n",
       "</div>"
      ],
      "text/plain": [
       "                           quantity\n",
       "youngold category                  \n",
       "0        Air freshener     0.017521\n",
       "         Alcohol           0.000014\n",
       "         Animals           0.003702\n",
       "         Appliances        0.000244\n",
       "         Auto              0.003228\n",
       "...                             ...\n",
       "1        Tourism           0.000061\n",
       "         Toys              0.004678\n",
       "         Vegetables        1.050573\n",
       "         Winterization     0.000009\n",
       "         intimate hygiene  0.050626\n",
       "\n",
       "[155 rows x 1 columns]"
      ]
     },
     "execution_count": 67,
     "metadata": {},
     "output_type": "execute_result"
    }
   ],
   "source": [
    "small_tab2_user.loc[:, 'youngold'] = small_tab2_user.user_id.map(user_to_yo)\n",
    "\n",
    "pricecat_youngold = pd.DataFrame(small_tab2_user.groupby(['youngold', 'category']).quantity.sum())\n",
    "pricecat_youngold.loc[0].loc[:, 'quantity'] = \\\n",
    "pricecat_youngold.loc[0].loc[:, 'quantity'] / user_to_dem.youngold.value_counts()[0]\n",
    "pricecat_youngold.loc[1].loc[:, 'quantity'] = \\\n",
    "pricecat_youngold.loc[1].loc[:, 'quantity'] / user_to_dem.youngold.value_counts()[1]\n",
    "pricecat_youngold"
   ]
  },
  {
   "cell_type": "code",
   "execution_count": 68,
   "metadata": {},
   "outputs": [],
   "source": [
    "common_cats = pricecat_youngold.loc[1].index & pricecat_youngold.loc[0].index\n",
    "cats_old = pricecat_youngold.loc[0].loc[common_cats]\n",
    "cats_young = pricecat_youngold.loc[1].loc[common_cats]\n",
    "percentage_diff = (cats_old / cats_young).sort_values('quantity') "
   ]
  },
  {
   "cell_type": "code",
   "execution_count": 69,
   "metadata": {},
   "outputs": [],
   "source": [
    "maxdiff_old = (percentage_diff > 1.8) \n",
    "maxdiff_young = (percentage_diff < 0.6)\n",
    "maxdiff_index_0 = maxdiff_old.loc[maxdiff_old.values.ravel()].index\n",
    "maxdiff_index_1 = maxdiff_young.loc[maxdiff_young.values.ravel()].index\n",
    "maxdiff_index_sorted_0 = cats_old.loc[maxdiff_index_0].sort_values('quantity').index\n",
    "maxdiff_index_sorted_1 = cats_young.loc[maxdiff_index_1].sort_values('quantity').index"
   ]
  },
  {
   "cell_type": "code",
   "execution_count": 70,
   "metadata": {},
   "outputs": [],
   "source": [
    "cats_old_0 = cats_old.loc[maxdiff_index_sorted_0]\n",
    "cats_young_0 = cats_young.loc[maxdiff_index_sorted_0]\n",
    "\n",
    "cats_old_1 = cats_old.loc[maxdiff_index_sorted_1]\n",
    "cats_young_1 = cats_young.loc[maxdiff_index_sorted_1]"
   ]
  },
  {
   "cell_type": "code",
   "execution_count": 71,
   "metadata": {},
   "outputs": [
    {
     "data": {
      "image/png": "[encoded data removed]",
      "text/plain": [
       "<Figure size 1080x360 with 2 Axes>"
      ]
     },
     "metadata": {
      "needs_background": "light"
     },
     "output_type": "display_data"
    }
   ],
   "source": [
    "plt.figure(figsize=(15, 5))\n",
    "plt.suptitle('Age dependance on category (old = 35+)')\n",
    "plt.subplot(1,2,1)\n",
    "plt.bar(np.array(range(len(cats_young_0)))-0.05, \n",
    "        cats_young_0.values.ravel(), alpha=0.5, color='g', label='young')\n",
    "barsf=plt.bar(np.array(range(len(cats_old_0)))+0.05, \n",
    "        cats_old_0.values.ravel(), alpha=0.5, color='saddlebrown', label='old')\n",
    "for rect, t in zip(barsf, percentage_diff.loc[maxdiff_index_sorted_0].values.ravel()):\n",
    "    height = rect.get_height()\n",
    "    plt.text(rect.get_x() + rect.get_width()/2.0, \n",
    "             height, 'x'+str(t.round(1)), ha='center', va='bottom')\n",
    "plt.xticks(range(len(maxdiff_index_0)), maxdiff_index_0.values, rotation=90)\n",
    "plt.legend()\n",
    "plt.title('Elder consume more than young')\n",
    "plt.ylabel('average quantity per user')\n",
    "\n",
    "plt.subplot(1,2,2)\n",
    "barsm = plt.bar(np.array(range(len(cats_young_1)))-0.05, \n",
    "        cats_young_1.values.ravel(), alpha=0.5, color='g', label='young')\n",
    "plt.bar(np.array(range(len(cats_old_1)))+0.05, \n",
    "        cats_old_1.values.ravel(), alpha=0.5, color='saddlebrown', label='old')\n",
    "plt.xticks(range(len(maxdiff_index_1)), maxdiff_index_1.values, rotation=90)\n",
    "for rect, t in zip(barsm, 1/percentage_diff.loc[maxdiff_index_sorted_1].values.ravel()):\n",
    "    height = rect.get_height()\n",
    "    plt.text(rect.get_x() + rect.get_width()/2.0, \n",
    "             height, 'x'+str(t.round(1)), ha='center', va='bottom')\n",
    "\n",
    "    \n",
    "plt.legend()\n",
    "plt.title('Young consume more than elder')\n",
    "plt.ylabel('average quantity per user')\n",
    "\n",
    "plt.savefig('gender_dif.png')\n",
    "plt.show()"
   ]
  },
  {
   "cell_type": "markdown",
   "metadata": {},
   "source": [
    "## Platform and retailer by demographic group"
   ]
  },
  {
   "cell_type": "code",
   "execution_count": 72,
   "metadata": {},
   "outputs": [],
   "source": [
    "small_tab2_ord = tab2.iloc[:, [0,1,7]]"
   ]
  },
  {
   "cell_type": "code",
   "execution_count": 73,
   "metadata": {},
   "outputs": [],
   "source": [
    "small_tab2_ord = small_tab2_ord[small_tab2_ord.user_id.isin(user_to_dem.user_id)].copy()\n",
    "small_tab2_ord = small_tab2_ord[small_tab2_ord.order_id.isin(tab1.order_id)].copy()"
   ]
  },
  {
   "cell_type": "code",
   "execution_count": 74,
   "metadata": {},
   "outputs": [],
   "source": [
    "small_tab2_ord = small_tab2_ord.groupby(['user_id', 'order_id']).price_total.sum().reset_index()"
   ]
  },
  {
   "cell_type": "code",
   "execution_count": 75,
   "metadata": {},
   "outputs": [],
   "source": [
    "small_tab2_ord.loc[:, 'agegroup'] = small_tab2_ord.user_id.map(user_to_agegroup)"
   ]
  },
  {
   "cell_type": "code",
   "execution_count": 76,
   "metadata": {},
   "outputs": [],
   "source": [
    "small_tab2_ord.loc[:, 'retailer'] = small_tab2_ord.order_id.map(order_to_retailer)"
   ]
  },
  {
   "cell_type": "code",
   "execution_count": 77,
   "metadata": {},
   "outputs": [],
   "source": [
    "retailer_dist = small_tab2_ord.groupby('agegroup').retailer.value_counts()\n",
    "age_num = small_tab2_ord.agegroup.value_counts()"
   ]
  },
  {
   "cell_type": "code",
   "execution_count": 78,
   "metadata": {},
   "outputs": [],
   "source": [
    "sorted_top3 = retailer_dist.loc[3].sort_values()[-3:]"
   ]
  },
  {
   "cell_type": "code",
   "execution_count": 79,
   "metadata": {},
   "outputs": [
    {
     "ename": "NameError",
     "evalue": "name 'yo_num' is not defined",
     "output_type": "error",
     "traceback": [
      "\u001b[0;31m---------------------------------------------------------------------------\u001b[0m",
      "\u001b[0;31mNameError\u001b[0m                                 Traceback (most recent call last)",
      "\u001b[0;32m<ipython-input-79-0ca8921fd848>\u001b[0m in \u001b[0;36m<module>\u001b[0;34m\u001b[0m\n\u001b[1;32m      2\u001b[0m \u001b[0;32mfor\u001b[0m \u001b[0mi\u001b[0m\u001b[0;34m,\u001b[0m \u001b[0mc\u001b[0m \u001b[0;32min\u001b[0m \u001b[0menumerate\u001b[0m\u001b[0;34m(\u001b[0m\u001b[0;34m'lightcoral sandybrown skyblue plum pink'\u001b[0m\u001b[0;34m.\u001b[0m\u001b[0msplit\u001b[0m\u001b[0;34m(\u001b[0m\u001b[0;34m)\u001b[0m\u001b[0;34m)\u001b[0m\u001b[0;34m:\u001b[0m\u001b[0;34m\u001b[0m\u001b[0;34m\u001b[0m\u001b[0m\n\u001b[1;32m      3\u001b[0m     plt.bar(np.arange(len(sorted_top3))+(0.1)*i, \n\u001b[0;32m----> 4\u001b[0;31m             (retailer_dist.loc[i].loc[sorted_top3.index].values) / (yo_num[i]), width=0.1, color=c)\n\u001b[0m\u001b[1;32m      5\u001b[0m \u001b[0mplt\u001b[0m\u001b[0;34m.\u001b[0m\u001b[0mtitle\u001b[0m\u001b[0;34m(\u001b[0m\u001b[0;34m'Retailer distribution by agegroup'\u001b[0m\u001b[0;34m)\u001b[0m\u001b[0;34m\u001b[0m\u001b[0;34m\u001b[0m\u001b[0m\n\u001b[1;32m      6\u001b[0m \u001b[0mplt\u001b[0m\u001b[0;34m.\u001b[0m\u001b[0mlegend\u001b[0m\u001b[0;34m(\u001b[0m\u001b[0magebins\u001b[0m\u001b[0;34m)\u001b[0m\u001b[0;34m\u001b[0m\u001b[0;34m\u001b[0m\u001b[0m\n",
      "\u001b[0;31mNameError\u001b[0m: name 'yo_num' is not defined"
     ]
    },
    {
     "data": {
      "text/plain": [
       "<Figure size 720x360 with 0 Axes>"
      ]
     },
     "metadata": {},
     "output_type": "display_data"
    }
   ],
   "source": [
    "plt.figure(figsize=(10,5))\n",
    "for i, c in enumerate('lightcoral sandybrown skyblue plum pink'.split()):\n",
    "    plt.bar(np.arange(len(sorted_top3))+(0.1)*i, \n",
    "            (retailer_dist.loc[i].loc[sorted_top3.index].values) / (age_num[i]), width=0.1, color=c)\n",
    "plt.title('Retailer distribution by agegroup')\n",
    "plt.legend(agebins)\n",
    "plt.xticks(np.arange(len(sorted_top3))+0.2, sorted_top3.index)\n",
    "plt.ylabel('orders quantity ratio (%)')\n",
    "plt.show()"
   ]
  },
  {
   "cell_type": "code",
   "execution_count": null,
   "metadata": {},
   "outputs": [],
   "source": [
    "# --------------------------------------------------------------------"
   ]
  },
  {
   "cell_type": "code",
   "execution_count": null,
   "metadata": {},
   "outputs": [],
   "source": [
    "small_tab2_ord.loc[:, 'platform'] = small_tab2_ord.order_id.map(order_to_platform)"
   ]
  },
  {
   "cell_type": "code",
   "execution_count": null,
   "metadata": {},
   "outputs": [],
   "source": [
    "small_tab2_ord_pl = small_tab2_ord.loc[small_tab2_ord.platform != 'undefined']"
   ]
  },
  {
   "cell_type": "code",
   "execution_count": null,
   "metadata": {},
   "outputs": [],
   "source": [
    "pl_dist = small_tab2_ord_pl.groupby(['platform']).agegroup.value_counts()"
   ]
  },
  {
   "cell_type": "code",
   "execution_count": null,
   "metadata": {},
   "outputs": [],
   "source": [
    "colors = 'lightcoral sandybrown skyblue plum pink'.split()\n",
    "explode = (0.15, 0.15, 0, 0, 0.15)\n",
    "fig1, (ax1, ax2) = plt.subplots(1, 2, figsize=(10,5))\n",
    "ax1.set_title('App platform')\n",
    "sizes = pl_dist['app'].sort_index().values\n",
    "ax1.pie(sizes, explode=explode, autopct='%1.1f%%',\n",
    "        shadow=True, startangle=90, colors=colors)\n",
    "ax1.axis('equal')\n",
    "ax2.set_title('Web platform')\n",
    "labels = pl_dist['web'].sort_index().index\n",
    "sizes = pl_dist['web'].sort_index().values\n",
    "ax2.pie(sizes, explode=explode, autopct='%1.1f%%',\n",
    "        shadow=True, startangle=90, colors=colors)\n",
    "ax2.axis('equal')\n",
    "ax2.legend([agebins[i] for i in pl_dist['web'].sort_index().index], bbox_to_anchor=(1.05, 1), loc='upper left')\n",
    "plt.savefig('platforms.png')\n",
    "plt.show()"
   ]
  },
  {
   "cell_type": "code",
   "execution_count": null,
   "metadata": {},
   "outputs": [],
   "source": []
  },
  {
   "cell_type": "markdown",
   "metadata": {},
   "source": [
    "## Budget Range"
   ]
  },
  {
   "cell_type": "code",
   "execution_count": 81,
   "metadata": {},
   "outputs": [
    {
     "data": {
      "text/html": [
       "<div>\n",
       "<style scoped>\n",
       "    .dataframe tbody tr th:only-of-type {\n",
       "        vertical-align: middle;\n",
       "    }\n",
       "\n",
       "    .dataframe tbody tr th {\n",
       "        vertical-align: top;\n",
       "    }\n",
       "\n",
       "    .dataframe thead th {\n",
       "        text-align: right;\n",
       "    }\n",
       "</style>\n",
       "<table border=\"1\" class=\"dataframe\">\n",
       "  <thead>\n",
       "    <tr style=\"text-align: right;\">\n",
       "      <th></th>\n",
       "      <th>user_id</th>\n",
       "      <th>order_id</th>\n",
       "      <th>price</th>\n",
       "      <th>quantity</th>\n",
       "      <th>discount</th>\n",
       "      <th>brand_name</th>\n",
       "      <th>parent_category_id</th>\n",
       "      <th>price_total</th>\n",
       "      <th>category</th>\n",
       "      <th>is_discount</th>\n",
       "    </tr>\n",
       "  </thead>\n",
       "  <tbody>\n",
       "    <tr>\n",
       "      <th>0</th>\n",
       "      <td>525</td>\n",
       "      <td>5354800</td>\n",
       "      <td>116.000000</td>\n",
       "      <td>4</td>\n",
       "      <td>0.000000</td>\n",
       "      <td>Золотой Петушок</td>\n",
       "      <td>99</td>\n",
       "      <td>464.000000</td>\n",
       "      <td>Semis</td>\n",
       "      <td>False</td>\n",
       "    </tr>\n",
       "    <tr>\n",
       "      <th>1</th>\n",
       "      <td>525</td>\n",
       "      <td>5354800</td>\n",
       "      <td>56.990002</td>\n",
       "      <td>2</td>\n",
       "      <td>13.080000</td>\n",
       "      <td>Хлебный Дом</td>\n",
       "      <td>51</td>\n",
       "      <td>113.980003</td>\n",
       "      <td>Bread products</td>\n",
       "      <td>True</td>\n",
       "    </tr>\n",
       "    <tr>\n",
       "      <th>2</th>\n",
       "      <td>525</td>\n",
       "      <td>5354800</td>\n",
       "      <td>64.989998</td>\n",
       "      <td>2</td>\n",
       "      <td>40.020000</td>\n",
       "      <td>Delicados</td>\n",
       "      <td>51</td>\n",
       "      <td>129.979996</td>\n",
       "      <td>Bread products</td>\n",
       "      <td>True</td>\n",
       "    </tr>\n",
       "    <tr>\n",
       "      <th>3</th>\n",
       "      <td>525</td>\n",
       "      <td>5354800</td>\n",
       "      <td>44.990002</td>\n",
       "      <td>6</td>\n",
       "      <td>0.000000</td>\n",
       "      <td>BonAqua</td>\n",
       "      <td>74</td>\n",
       "      <td>269.940002</td>\n",
       "      <td>Drinks</td>\n",
       "      <td>False</td>\n",
       "    </tr>\n",
       "    <tr>\n",
       "      <th>4</th>\n",
       "      <td>525</td>\n",
       "      <td>5354800</td>\n",
       "      <td>65.900002</td>\n",
       "      <td>6</td>\n",
       "      <td>30.990000</td>\n",
       "      <td>Mirinda</td>\n",
       "      <td>74</td>\n",
       "      <td>395.400024</td>\n",
       "      <td>Drinks</td>\n",
       "      <td>True</td>\n",
       "    </tr>\n",
       "    <tr>\n",
       "      <th>...</th>\n",
       "      <td>...</td>\n",
       "      <td>...</td>\n",
       "      <td>...</td>\n",
       "      <td>...</td>\n",
       "      <td>...</td>\n",
       "      <td>...</td>\n",
       "      <td>...</td>\n",
       "      <td>...</td>\n",
       "      <td>...</td>\n",
       "      <td>...</td>\n",
       "    </tr>\n",
       "    <tr>\n",
       "      <th>3167950</th>\n",
       "      <td>3142966</td>\n",
       "      <td>16654689</td>\n",
       "      <td>34.889999</td>\n",
       "      <td>1</td>\n",
       "      <td>17.700001</td>\n",
       "      <td>Epica</td>\n",
       "      <td>20</td>\n",
       "      <td>34.889999</td>\n",
       "      <td>Dairy</td>\n",
       "      <td>True</td>\n",
       "    </tr>\n",
       "    <tr>\n",
       "      <th>3167951</th>\n",
       "      <td>3142966</td>\n",
       "      <td>16654689</td>\n",
       "      <td>63.889999</td>\n",
       "      <td>1</td>\n",
       "      <td>73.000000</td>\n",
       "      <td>Ritter Sport</td>\n",
       "      <td>56</td>\n",
       "      <td>63.889999</td>\n",
       "      <td>Sweets</td>\n",
       "      <td>True</td>\n",
       "    </tr>\n",
       "    <tr>\n",
       "      <th>3167952</th>\n",
       "      <td>3142966</td>\n",
       "      <td>16654689</td>\n",
       "      <td>63.889999</td>\n",
       "      <td>1</td>\n",
       "      <td>82.500000</td>\n",
       "      <td>Ritter Sport</td>\n",
       "      <td>56</td>\n",
       "      <td>63.889999</td>\n",
       "      <td>Sweets</td>\n",
       "      <td>True</td>\n",
       "    </tr>\n",
       "    <tr>\n",
       "      <th>3167953</th>\n",
       "      <td>3142966</td>\n",
       "      <td>16654689</td>\n",
       "      <td>298.489990</td>\n",
       "      <td>1</td>\n",
       "      <td>0.000000</td>\n",
       "      <td>Троекурово</td>\n",
       "      <td>119</td>\n",
       "      <td>298.489990</td>\n",
       "      <td>Meat</td>\n",
       "      <td>False</td>\n",
       "    </tr>\n",
       "    <tr>\n",
       "      <th>3167954</th>\n",
       "      <td>3142966</td>\n",
       "      <td>16654689</td>\n",
       "      <td>210.589996</td>\n",
       "      <td>1</td>\n",
       "      <td>0.000000</td>\n",
       "      <td>Троекурово</td>\n",
       "      <td>119</td>\n",
       "      <td>210.589996</td>\n",
       "      <td>Meat</td>\n",
       "      <td>False</td>\n",
       "    </tr>\n",
       "  </tbody>\n",
       "</table>\n",
       "<p>59596980 rows × 10 columns</p>\n",
       "</div>"
      ],
      "text/plain": [
       "         user_id  order_id       price  quantity   discount       brand_name  \\\n",
       "0            525   5354800  116.000000         4   0.000000  Золотой Петушок   \n",
       "1            525   5354800   56.990002         2  13.080000      Хлебный Дом   \n",
       "2            525   5354800   64.989998         2  40.020000        Delicados   \n",
       "3            525   5354800   44.990002         6   0.000000          BonAqua   \n",
       "4            525   5354800   65.900002         6  30.990000          Mirinda   \n",
       "...          ...       ...         ...       ...        ...              ...   \n",
       "3167950  3142966  16654689   34.889999         1  17.700001            Epica   \n",
       "3167951  3142966  16654689   63.889999         1  73.000000     Ritter Sport   \n",
       "3167952  3142966  16654689   63.889999         1  82.500000     Ritter Sport   \n",
       "3167953  3142966  16654689  298.489990         1   0.000000       Троекурово   \n",
       "3167954  3142966  16654689  210.589996         1   0.000000       Троекурово   \n",
       "\n",
       "         parent_category_id  price_total        category  is_discount  \n",
       "0                        99   464.000000           Semis        False  \n",
       "1                        51   113.980003  Bread products         True  \n",
       "2                        51   129.979996  Bread products         True  \n",
       "3                        74   269.940002          Drinks        False  \n",
       "4                        74   395.400024          Drinks         True  \n",
       "...                     ...          ...             ...          ...  \n",
       "3167950                  20    34.889999           Dairy         True  \n",
       "3167951                  56    63.889999          Sweets         True  \n",
       "3167952                  56    63.889999          Sweets         True  \n",
       "3167953                 119   298.489990            Meat        False  \n",
       "3167954                 119   210.589996            Meat        False  \n",
       "\n",
       "[59596980 rows x 10 columns]"
      ]
     },
     "execution_count": 81,
     "metadata": {},
     "output_type": "execute_result"
    }
   ],
   "source": [
    "tab2"
   ]
  },
  {
   "cell_type": "code",
   "execution_count": 83,
   "metadata": {},
   "outputs": [],
   "source": [
    "expensive_products_user = tab2.groupby('user_id').price.max()"
   ]
  },
  {
   "cell_type": "code",
   "execution_count": 84,
   "metadata": {},
   "outputs": [],
   "source": [
    "amount_money_spent_user = tab2.groupby('user_id').price_total.sum()"
   ]
  },
  {
   "cell_type": "code",
   "execution_count": 86,
   "metadata": {},
   "outputs": [],
   "source": [
    "discount_likely_user = tab2.groupby('user_id').is_discount.mean()"
   ]
  },
  {
   "cell_type": "code",
   "execution_count": 170,
   "metadata": {},
   "outputs": [
    {
     "data": {
      "image/png": "[encoded data removed]",
      "text/plain": [
       "<Figure size 1296x288 with 3 Axes>"
      ]
     },
     "metadata": {
      "needs_background": "light"
     },
     "output_type": "display_data"
    }
   ],
   "source": [
    "plt.figure(figsize=(18,4))\n",
    "plt.suptitle('Distributions of \"spending money\" = users budget range')\n",
    "plt.subplot(131)\n",
    "plt.hist(np.log(expensive_products_user.values)/np.log(expensive_products_user.values.max()), \n",
    "         bins=50, color='mediumseagreen')\n",
    "plt.ylabel('quantity of users')\n",
    "plt.xlabel('log(maximum purchased product price)')\n",
    "plt.subplot(132)\n",
    "plt.hist(np.log(amount_money_spent_user.values)/np.log(amount_money_spent_user.values.max()), bins=50,  color='mediumseagreen')\n",
    "# plt.ylabel('quantity of users')\n",
    "plt.xlabel('log(total money spent)')\n",
    "plt.subplot(133)\n",
    "plt.hist((discount_likely_user.values), bins=50,  color='mediumseagreen')\n",
    "# plt.ylabel('quantity of users')\n",
    "plt.xlabel('average amount of products with discount')\n",
    "plt.savefig()\n",
    "plt.show()"
   ]
  },
  {
   "cell_type": "markdown",
   "metadata": {},
   "source": [
    "$$\\text{budget_metric}_{u} = \\frac{\\log(\\text{max_price_product}_{u}) * \\log(\\text{total_money_spent}_{u}) }{\\log(\\text{max_price_product}_{\\max_u}) * \\log(\\text{total_money_spent}_{\\max_u})} \\cdot \\exp((\\text{is_discount_avg}_{u} + \\varepsilon)^{-1})$$"
   ]
  },
  {
   "cell_type": "code",
   "execution_count": 196,
   "metadata": {},
   "outputs": [
    {
     "data": {
      "image/png": "[encoded data removed]",
      "text/plain": [
       "<Figure size 432x288 with 1 Axes>"
      ]
     },
     "metadata": {
      "needs_background": "light"
     },
     "output_type": "display_data"
    }
   ],
   "source": [
    "func_money = np.log(expensive_products_user.values) \\\n",
    "         * np.log(amount_money_spent_user.values)\\\n",
    "         * np.exp(1 / (discount_likely_user.values + 1e3)) \\\n",
    "         / (np.log(expensive_products_user.values.max()) \\\n",
    "            * np.log(amount_money_spent_user.values.max()))\n",
    "        \n",
    "plt.hist(func_money, bins=20)\n",
    "plt.show()"
   ]
  },
  {
   "cell_type": "code",
   "execution_count": 202,
   "metadata": {},
   "outputs": [
    {
     "data": {
      "text/plain": [
       "array([0.18784799, 0.22815349, 0.28387664])"
      ]
     },
     "execution_count": 202,
     "metadata": {},
     "output_type": "execute_result"
    }
   ],
   "source": [
    "np.quantile(func_money, [0.2, 0.5, 0.8])"
   ]
  },
  {
   "cell_type": "code",
   "execution_count": 208,
   "metadata": {},
   "outputs": [],
   "source": [
    "func_user = pd.DataFrame(expensive_products_user)\n",
    "func_user.loc[:, 'func'] = func_money\n",
    "func_user = func_user.drop('price', 1)"
   ]
  },
  {
   "cell_type": "code",
   "execution_count": 213,
   "metadata": {},
   "outputs": [],
   "source": [
    "budget_range = pd.qcut(func_user.func, [0, 0.2, 0.5, 0.8, 1], labels=False)"
   ]
  },
  {
   "cell_type": "code",
   "execution_count": 214,
   "metadata": {},
   "outputs": [],
   "source": [
    "func_user.loc[:, 'budget'] = budget_range"
   ]
  },
  {
   "cell_type": "code",
   "execution_count": 215,
   "metadata": {},
   "outputs": [
    {
     "data": {
      "text/html": [
       "<div>\n",
       "<style scoped>\n",
       "    .dataframe tbody tr th:only-of-type {\n",
       "        vertical-align: middle;\n",
       "    }\n",
       "\n",
       "    .dataframe tbody tr th {\n",
       "        vertical-align: top;\n",
       "    }\n",
       "\n",
       "    .dataframe thead th {\n",
       "        text-align: right;\n",
       "    }\n",
       "</style>\n",
       "<table border=\"1\" class=\"dataframe\">\n",
       "  <thead>\n",
       "    <tr style=\"text-align: right;\">\n",
       "      <th></th>\n",
       "      <th>func</th>\n",
       "      <th>budget</th>\n",
       "    </tr>\n",
       "    <tr>\n",
       "      <th>user_id</th>\n",
       "      <th></th>\n",
       "      <th></th>\n",
       "    </tr>\n",
       "  </thead>\n",
       "  <tbody>\n",
       "    <tr>\n",
       "      <th>51</th>\n",
       "      <td>0.422846</td>\n",
       "      <td>3</td>\n",
       "    </tr>\n",
       "    <tr>\n",
       "      <th>65</th>\n",
       "      <td>0.387595</td>\n",
       "      <td>3</td>\n",
       "    </tr>\n",
       "    <tr>\n",
       "      <th>83</th>\n",
       "      <td>0.255181</td>\n",
       "      <td>2</td>\n",
       "    </tr>\n",
       "    <tr>\n",
       "      <th>142</th>\n",
       "      <td>0.185568</td>\n",
       "      <td>0</td>\n",
       "    </tr>\n",
       "    <tr>\n",
       "      <th>187</th>\n",
       "      <td>0.159613</td>\n",
       "      <td>0</td>\n",
       "    </tr>\n",
       "    <tr>\n",
       "      <th>...</th>\n",
       "      <td>...</td>\n",
       "      <td>...</td>\n",
       "    </tr>\n",
       "    <tr>\n",
       "      <th>3142901</th>\n",
       "      <td>0.145487</td>\n",
       "      <td>0</td>\n",
       "    </tr>\n",
       "    <tr>\n",
       "      <th>3142924</th>\n",
       "      <td>0.189606</td>\n",
       "      <td>1</td>\n",
       "    </tr>\n",
       "    <tr>\n",
       "      <th>3142936</th>\n",
       "      <td>0.154150</td>\n",
       "      <td>0</td>\n",
       "    </tr>\n",
       "    <tr>\n",
       "      <th>3142965</th>\n",
       "      <td>0.173109</td>\n",
       "      <td>0</td>\n",
       "    </tr>\n",
       "    <tr>\n",
       "      <th>3142966</th>\n",
       "      <td>0.187682</td>\n",
       "      <td>0</td>\n",
       "    </tr>\n",
       "  </tbody>\n",
       "</table>\n",
       "<p>657502 rows × 2 columns</p>\n",
       "</div>"
      ],
      "text/plain": [
       "             func  budget\n",
       "user_id                  \n",
       "51       0.422846       3\n",
       "65       0.387595       3\n",
       "83       0.255181       2\n",
       "142      0.185568       0\n",
       "187      0.159613       0\n",
       "...           ...     ...\n",
       "3142901  0.145487       0\n",
       "3142924  0.189606       1\n",
       "3142936  0.154150       0\n",
       "3142965  0.173109       0\n",
       "3142966  0.187682       0\n",
       "\n",
       "[657502 rows x 2 columns]"
      ]
     },
     "execution_count": 215,
     "metadata": {},
     "output_type": "execute_result"
    }
   ],
   "source": [
    "func_user"
   ]
  },
  {
   "cell_type": "code",
   "execution_count": 217,
   "metadata": {},
   "outputs": [],
   "source": [
    "user_to_budget = dict(zip(func_user.index.values, func_user.budget.values))"
   ]
  },
  {
   "cell_type": "code",
   "execution_count": 218,
   "metadata": {},
   "outputs": [],
   "source": [
    "tab2.loc[:, 'budget'] = tab2.user_id.map(user_to_budget)"
   ]
  },
  {
   "cell_type": "code",
   "execution_count": 222,
   "metadata": {},
   "outputs": [],
   "source": [
    "budget_brand = tab2.groupby('budget').brand_name.value_counts()"
   ]
  },
  {
   "cell_type": "code",
   "execution_count": 226,
   "metadata": {},
   "outputs": [
    {
     "name": "stdout",
     "output_type": "stream",
     "text": [
      "0\n",
      "brand_name\n",
      "Лента            64255\n",
      "365 дней         52203\n",
      "Простоквашино    35331\n",
      "ФрутоНяня        32831\n",
      "Aro              32750\n",
      "Fine Life        28968\n",
      "Мое лето         20336\n",
      "Lay's            19005\n",
      "Heinz            18628\n",
      "Name: brand_name, dtype: int64\n",
      "----------\n",
      "1\n",
      "brand_name\n",
      "Лента            149057\n",
      "365 дней         119205\n",
      "Aro              105347\n",
      "Fine Life        104580\n",
      "Простоквашино     98330\n",
      "ФрутоНяня         71167\n",
      "Мое лето          57024\n",
      "Makfa             49064\n",
      "Heinz             47618\n",
      "Name: brand_name, dtype: int64\n",
      "----------\n",
      "2\n",
      "brand_name\n",
      "Fine Life        308554\n",
      "Лента            295516\n",
      "Aro              293123\n",
      "Простоквашино    242625\n",
      "365 дней         215627\n",
      "ФрутоНяня        177143\n",
      "Мое лето         126744\n",
      "Мираторг         125075\n",
      "Heinz            117084\n",
      "Name: brand_name, dtype: int64\n",
      "----------\n",
      "3\n",
      "brand_name\n",
      "Fine Life        916876\n",
      "Aro              792678\n",
      "Простоквашино    610846\n",
      "ФрутоНяня        461358\n",
      "Лента            443713\n",
      "Мираторг         388216\n",
      "Metro Chef       370318\n",
      "Агуша            302035\n",
      "365 дней         283526\n",
      "Name: brand_name, dtype: int64\n",
      "----------\n"
     ]
    }
   ],
   "source": [
    "for i in range(4):\n",
    "    print(i)\n",
    "    print(budget_brand.loc[i][1:10])\n",
    "    print('----------')"
   ]
  },
  {
   "cell_type": "markdown",
   "metadata": {},
   "source": [
    "## Categories vs categories dependance (milk + oats)"
   ]
  },
  {
   "cell_type": "code",
   "execution_count": 231,
   "metadata": {},
   "outputs": [],
   "source": [
    "small_tab2_prod = tab2.drop(['user_id', 'price', 'quantity', 'discount', 'price_total', 'is_discount', 'budget'], axis=1)"
   ]
  },
  {
   "cell_type": "code",
   "execution_count": 242,
   "metadata": {},
   "outputs": [
    {
     "data": {
      "text/html": [
       "<div>\n",
       "<style scoped>\n",
       "    .dataframe tbody tr th:only-of-type {\n",
       "        vertical-align: middle;\n",
       "    }\n",
       "\n",
       "    .dataframe tbody tr th {\n",
       "        vertical-align: top;\n",
       "    }\n",
       "\n",
       "    .dataframe thead th {\n",
       "        text-align: right;\n",
       "    }\n",
       "</style>\n",
       "<table border=\"1\" class=\"dataframe\">\n",
       "  <thead>\n",
       "    <tr style=\"text-align: right;\">\n",
       "      <th></th>\n",
       "      <th></th>\n",
       "      <th>category</th>\n",
       "    </tr>\n",
       "    <tr>\n",
       "      <th>order_id</th>\n",
       "      <th>category</th>\n",
       "      <th></th>\n",
       "    </tr>\n",
       "  </thead>\n",
       "  <tbody>\n",
       "    <tr>\n",
       "      <th rowspan=\"5\" valign=\"top\">2749435</th>\n",
       "      <th>Dairy</th>\n",
       "      <td>5</td>\n",
       "    </tr>\n",
       "    <tr>\n",
       "      <th>Vegetables</th>\n",
       "      <td>3</td>\n",
       "    </tr>\n",
       "    <tr>\n",
       "      <th>Grocery</th>\n",
       "      <td>1</td>\n",
       "    </tr>\n",
       "    <tr>\n",
       "      <th>Paper funds</th>\n",
       "      <td>1</td>\n",
       "    </tr>\n",
       "    <tr>\n",
       "      <th>Sauces</th>\n",
       "      <td>1</td>\n",
       "    </tr>\n",
       "    <tr>\n",
       "      <th>...</th>\n",
       "      <th>...</th>\n",
       "      <td>...</td>\n",
       "    </tr>\n",
       "    <tr>\n",
       "      <th rowspan=\"5\" valign=\"top\">16831182</th>\n",
       "      <th>Dairy</th>\n",
       "      <td>3</td>\n",
       "    </tr>\n",
       "    <tr>\n",
       "      <th>Semis</th>\n",
       "      <td>3</td>\n",
       "    </tr>\n",
       "    <tr>\n",
       "      <th>Cheese</th>\n",
       "      <td>1</td>\n",
       "    </tr>\n",
       "    <tr>\n",
       "      <th>Sauces</th>\n",
       "      <td>1</td>\n",
       "    </tr>\n",
       "    <tr>\n",
       "      <th>Sneeks</th>\n",
       "      <td>1</td>\n",
       "    </tr>\n",
       "  </tbody>\n",
       "</table>\n",
       "<p>392581 rows × 1 columns</p>\n",
       "</div>"
      ],
      "text/plain": [
       "                      category\n",
       "order_id category             \n",
       "2749435  Dairy               5\n",
       "         Vegetables          3\n",
       "         Grocery             1\n",
       "         Paper funds         1\n",
       "         Sauces              1\n",
       "...                        ...\n",
       "16831182 Dairy               3\n",
       "         Semis               3\n",
       "         Cheese              1\n",
       "         Sauces              1\n",
       "         Sneeks              1\n",
       "\n",
       "[392581 rows x 1 columns]"
      ]
     },
     "execution_count": 242,
     "metadata": {},
     "output_type": "execute_result"
    }
   ],
   "source": [
    "tmp = pd.DataFrame(small_tab2_prod[-1000000:].groupby('order_id').category.value_counts())\n",
    "tmp"
   ]
  },
  {
   "cell_type": "code",
   "execution_count": 248,
   "metadata": {},
   "outputs": [
    {
     "data": {
      "text/plain": [
       "array([15948638, 16494232, 14975273, ..., 16831182, 15623327, 16654689],\n",
       "      dtype=uint32)"
      ]
     },
     "execution_count": 248,
     "metadata": {},
     "output_type": "execute_result"
    }
   ],
   "source": []
  },
  {
   "cell_type": "code",
   "execution_count": 249,
   "metadata": {},
   "outputs": [],
   "source": [
    "import itertools"
   ]
  },
  {
   "cell_type": "code",
   "execution_count": 244,
   "metadata": {
    "collapsed": true
   },
   "outputs": [
    {
     "ename": "ValueError",
     "evalue": "cannot insert category, already exists",
     "output_type": "error",
     "traceback": [
      "\u001b[0;31m---------------------------------------------------------------------------\u001b[0m",
      "\u001b[0;31mValueError\u001b[0m                                Traceback (most recent call last)",
      "\u001b[0;32m<ipython-input-244-7fb70524d54e>\u001b[0m in \u001b[0;36m<module>\u001b[0;34m\u001b[0m\n\u001b[0;32m----> 1\u001b[0;31m \u001b[0mtmp\u001b[0m\u001b[0;34m.\u001b[0m\u001b[0mreset_index\u001b[0m\u001b[0;34m(\u001b[0m\u001b[0;34m)\u001b[0m\u001b[0;34m\u001b[0m\u001b[0;34m\u001b[0m\u001b[0m\n\u001b[0m",
      "\u001b[0;32m~/.local/lib/python3.6/site-packages/pandas/core/frame.py\u001b[0m in \u001b[0;36mreset_index\u001b[0;34m(self, level, drop, inplace, col_level, col_fill)\u001b[0m\n\u001b[1;32m   4602\u001b[0m                 \u001b[0;31m# to ndarray and maybe infer different dtype\u001b[0m\u001b[0;34m\u001b[0m\u001b[0;34m\u001b[0m\u001b[0;34m\u001b[0m\u001b[0m\n\u001b[1;32m   4603\u001b[0m                 \u001b[0mlevel_values\u001b[0m \u001b[0;34m=\u001b[0m \u001b[0m_maybe_casted_values\u001b[0m\u001b[0;34m(\u001b[0m\u001b[0mlev\u001b[0m\u001b[0;34m,\u001b[0m \u001b[0mlab\u001b[0m\u001b[0;34m)\u001b[0m\u001b[0;34m\u001b[0m\u001b[0;34m\u001b[0m\u001b[0m\n\u001b[0;32m-> 4604\u001b[0;31m                 \u001b[0mnew_obj\u001b[0m\u001b[0;34m.\u001b[0m\u001b[0minsert\u001b[0m\u001b[0;34m(\u001b[0m\u001b[0;36m0\u001b[0m\u001b[0;34m,\u001b[0m \u001b[0mname\u001b[0m\u001b[0;34m,\u001b[0m \u001b[0mlevel_values\u001b[0m\u001b[0;34m)\u001b[0m\u001b[0;34m\u001b[0m\u001b[0;34m\u001b[0m\u001b[0m\n\u001b[0m\u001b[1;32m   4605\u001b[0m \u001b[0;34m\u001b[0m\u001b[0m\n\u001b[1;32m   4606\u001b[0m         \u001b[0mnew_obj\u001b[0m\u001b[0;34m.\u001b[0m\u001b[0mindex\u001b[0m \u001b[0;34m=\u001b[0m \u001b[0mnew_index\u001b[0m\u001b[0;34m\u001b[0m\u001b[0;34m\u001b[0m\u001b[0m\n",
      "\u001b[0;32m~/.local/lib/python3.6/site-packages/pandas/core/frame.py\u001b[0m in \u001b[0;36minsert\u001b[0;34m(self, loc, column, value, allow_duplicates)\u001b[0m\n\u001b[1;32m   3494\u001b[0m         \u001b[0mself\u001b[0m\u001b[0;34m.\u001b[0m\u001b[0m_ensure_valid_index\u001b[0m\u001b[0;34m(\u001b[0m\u001b[0mvalue\u001b[0m\u001b[0;34m)\u001b[0m\u001b[0;34m\u001b[0m\u001b[0;34m\u001b[0m\u001b[0m\n\u001b[1;32m   3495\u001b[0m         \u001b[0mvalue\u001b[0m \u001b[0;34m=\u001b[0m \u001b[0mself\u001b[0m\u001b[0;34m.\u001b[0m\u001b[0m_sanitize_column\u001b[0m\u001b[0;34m(\u001b[0m\u001b[0mcolumn\u001b[0m\u001b[0;34m,\u001b[0m \u001b[0mvalue\u001b[0m\u001b[0;34m,\u001b[0m \u001b[0mbroadcast\u001b[0m\u001b[0;34m=\u001b[0m\u001b[0;32mFalse\u001b[0m\u001b[0;34m)\u001b[0m\u001b[0;34m\u001b[0m\u001b[0;34m\u001b[0m\u001b[0m\n\u001b[0;32m-> 3496\u001b[0;31m         \u001b[0mself\u001b[0m\u001b[0;34m.\u001b[0m\u001b[0m_data\u001b[0m\u001b[0;34m.\u001b[0m\u001b[0minsert\u001b[0m\u001b[0;34m(\u001b[0m\u001b[0mloc\u001b[0m\u001b[0;34m,\u001b[0m \u001b[0mcolumn\u001b[0m\u001b[0;34m,\u001b[0m \u001b[0mvalue\u001b[0m\u001b[0;34m,\u001b[0m \u001b[0mallow_duplicates\u001b[0m\u001b[0;34m=\u001b[0m\u001b[0mallow_duplicates\u001b[0m\u001b[0;34m)\u001b[0m\u001b[0;34m\u001b[0m\u001b[0;34m\u001b[0m\u001b[0m\n\u001b[0m\u001b[1;32m   3497\u001b[0m \u001b[0;34m\u001b[0m\u001b[0m\n\u001b[1;32m   3498\u001b[0m     \u001b[0;32mdef\u001b[0m \u001b[0massign\u001b[0m\u001b[0;34m(\u001b[0m\u001b[0mself\u001b[0m\u001b[0;34m,\u001b[0m \u001b[0;34m**\u001b[0m\u001b[0mkwargs\u001b[0m\u001b[0;34m)\u001b[0m \u001b[0;34m->\u001b[0m \u001b[0;34m\"DataFrame\"\u001b[0m\u001b[0;34m:\u001b[0m\u001b[0;34m\u001b[0m\u001b[0;34m\u001b[0m\u001b[0m\n",
      "\u001b[0;32m~/.local/lib/python3.6/site-packages/pandas/core/internals/managers.py\u001b[0m in \u001b[0;36minsert\u001b[0;34m(self, loc, item, value, allow_duplicates)\u001b[0m\n\u001b[1;32m   1171\u001b[0m         \u001b[0;32mif\u001b[0m \u001b[0;32mnot\u001b[0m \u001b[0mallow_duplicates\u001b[0m \u001b[0;32mand\u001b[0m \u001b[0mitem\u001b[0m \u001b[0;32min\u001b[0m \u001b[0mself\u001b[0m\u001b[0;34m.\u001b[0m\u001b[0mitems\u001b[0m\u001b[0;34m:\u001b[0m\u001b[0;34m\u001b[0m\u001b[0;34m\u001b[0m\u001b[0m\n\u001b[1;32m   1172\u001b[0m             \u001b[0;31m# Should this be a different kind of error??\u001b[0m\u001b[0;34m\u001b[0m\u001b[0;34m\u001b[0m\u001b[0;34m\u001b[0m\u001b[0m\n\u001b[0;32m-> 1173\u001b[0;31m             \u001b[0;32mraise\u001b[0m \u001b[0mValueError\u001b[0m\u001b[0;34m(\u001b[0m\u001b[0;34mf\"cannot insert {item}, already exists\"\u001b[0m\u001b[0;34m)\u001b[0m\u001b[0;34m\u001b[0m\u001b[0;34m\u001b[0m\u001b[0m\n\u001b[0m\u001b[1;32m   1174\u001b[0m \u001b[0;34m\u001b[0m\u001b[0m\n\u001b[1;32m   1175\u001b[0m         \u001b[0;32mif\u001b[0m \u001b[0;32mnot\u001b[0m \u001b[0misinstance\u001b[0m\u001b[0;34m(\u001b[0m\u001b[0mloc\u001b[0m\u001b[0;34m,\u001b[0m \u001b[0mint\u001b[0m\u001b[0;34m)\u001b[0m\u001b[0;34m:\u001b[0m\u001b[0;34m\u001b[0m\u001b[0;34m\u001b[0m\u001b[0m\n",
      "\u001b[0;31mValueError\u001b[0m: cannot insert category, already exists"
     ]
    }
   ],
   "source": [
    "pairs_cat = dict()\n",
    "for i in (small_tab2_prod[-1000000:].order_id.unique()):\n",
    "    cats = tmp.loc[i].index.values\n",
    "    for pair in itertools.permutations(cats, repeat=2):"
   ]
  },
  {
   "cell_type": "code",
   "execution_count": null,
   "metadata": {},
   "outputs": [],
   "source": []
  }
 ],
 "metadata": {
  "kernelspec": {
   "display_name": "Python 3",
   "language": "python",
   "name": "python3"
  },
  "language_info": {
   "codemirror_mode": {
    "name": "ipython",
    "version": 3
   },
   "file_extension": ".py",
   "mimetype": "text/x-python",
   "name": "python",
   "nbconvert_exporter": "python",
   "pygments_lexer": "ipython3",
   "version": "3.6.9"
  }
 },
 "nbformat": 4,
 "nbformat_minor": 4
}
